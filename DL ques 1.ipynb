{
 "cells": [
  {
   "cell_type": "code",
   "execution_count": 1,
   "id": "a60eff1f",
   "metadata": {
    "scrolled": true
   },
   "outputs": [],
   "source": [
    "import tensorflow as tf\n",
    "from tensorflow.keras import layers\n",
    "from tensorflow.keras.datasets import mnist"
   ]
  },
  {
   "cell_type": "code",
   "execution_count": 2,
   "id": "dd1b73ba",
   "metadata": {},
   "outputs": [],
   "source": [
    "# Loading MNIST dataset\n",
    "(x_train, y_train), (x_test, y_test) = mnist.load_data()\n",
    "\n",
    "# Preprocessing the data\n",
    "x_train = x_train.reshape(-1, 28, 28, 1).astype(\"float32\") / 255.0\n",
    "x_test = x_test.reshape(-1, 28, 28, 1).astype(\"float32\") / 255.0\n"
   ]
  },
  {
   "cell_type": "code",
   "execution_count": 3,
   "id": "5b0a10b5",
   "metadata": {},
   "outputs": [
    {
     "name": "stdout",
     "output_type": "stream",
     "text": [
      "Epoch 1/5\n",
      "1875/1875 [==============================] - 34s 18ms/step - loss: 0.1560 - accuracy: 0.9533\n",
      "Epoch 2/5\n",
      "1875/1875 [==============================] - 29s 16ms/step - loss: 0.0557 - accuracy: 0.9832\n",
      "Epoch 3/5\n",
      "1875/1875 [==============================] - 33s 18ms/step - loss: 0.0377 - accuracy: 0.9883\n",
      "Epoch 4/5\n",
      "1875/1875 [==============================] - 33s 18ms/step - loss: 0.0262 - accuracy: 0.9919\n",
      "Epoch 5/5\n",
      "1875/1875 [==============================] - 35s 18ms/step - loss: 0.0184 - accuracy: 0.9943\n",
      "Model 1 - Test Accuracy: 98.55%\n",
      "Epoch 1/5\n",
      "1875/1875 [==============================] - 26s 13ms/step - loss: 0.1571 - accuracy: 0.9532\n",
      "Epoch 2/5\n",
      "1875/1875 [==============================] - 28s 15ms/step - loss: 0.0503 - accuracy: 0.9848\n",
      "Epoch 3/5\n",
      "1875/1875 [==============================] - 22s 12ms/step - loss: 0.0343 - accuracy: 0.9898\n",
      "Epoch 4/5\n",
      "1875/1875 [==============================] - 26s 14ms/step - loss: 0.0274 - accuracy: 0.9909\n",
      "Epoch 5/5\n",
      "1875/1875 [==============================] - 24s 13ms/step - loss: 0.0203 - accuracy: 0.9932\n",
      "Model 2 - Test Accuracy: 98.99%\n",
      "Epoch 1/5\n",
      "1875/1875 [==============================] - 75s 39ms/step - loss: 0.1574 - accuracy: 0.9538\n",
      "Epoch 2/5\n",
      "1875/1875 [==============================] - 71s 38ms/step - loss: 0.0519 - accuracy: 0.9842\n",
      "Epoch 3/5\n",
      "1875/1875 [==============================] - 76s 41ms/step - loss: 0.0338 - accuracy: 0.9898\n",
      "Epoch 4/5\n",
      "1875/1875 [==============================] - 77s 41ms/step - loss: 0.0230 - accuracy: 0.9927\n",
      "Epoch 5/5\n",
      "1875/1875 [==============================] - 74s 39ms/step - loss: 0.0161 - accuracy: 0.9945\n",
      "Model 3 - Test Accuracy: 98.58%\n",
      "\n",
      "Comparison Table for Accuracy:\n",
      "----------------------------\n",
      "|   Model   |   Accuracy   |\n",
      "----------------------------\n",
      "|  Model 1  |    98.55%   |\n",
      "|  Model 2  |    98.99%   |\n",
      "|  Model 3  |    98.58%   |\n",
      "----------------------------\n"
     ]
    }
   ],
   "source": [
    "\n",
    "# Defining the three CNN architectures\n",
    "def model_1():\n",
    "    model = tf.keras.Sequential([\n",
    "        layers.Conv2D(32, (3, 3), activation='relu', input_shape=(28, 28, 1)),\n",
    "        layers.MaxPooling2D((2, 2)),\n",
    "        layers.Flatten(),\n",
    "        layers.Dense(64, activation='relu'),\n",
    "        layers.Dense(10, activation='softmax')\n",
    "    ])\n",
    "    return model\n",
    "\n",
    "def model_2():\n",
    "    model = tf.keras.Sequential([\n",
    "        layers.Conv2D(16, (3, 3), activation='relu', input_shape=(28, 28, 1)),\n",
    "        layers.MaxPooling2D((2, 2)),\n",
    "        layers.Conv2D(32, (3, 3), activation='relu'),\n",
    "        layers.MaxPooling2D((2, 2)),\n",
    "        layers.Flatten(),\n",
    "        layers.Dense(128, activation='relu'),\n",
    "        layers.Dense(10, activation='softmax')\n",
    "    ])\n",
    "    return model\n",
    "\n",
    "def model_3():\n",
    "    model = tf.keras.Sequential([\n",
    "        layers.Conv2D(8, (3, 3), activation='relu', input_shape=(28, 28, 1)),\n",
    "        layers.Conv2D(16, (3, 3), activation='relu'),\n",
    "        layers.Flatten(),\n",
    "        layers.Dense(64, activation='relu'),\n",
    "        layers.Dense(10, activation='softmax')\n",
    "    ])\n",
    "    return model\n",
    "\n",
    "# Compile and train the models\n",
    "models = [model_1(), model_2(), model_3()]\n",
    "model_names = ['Model 1', 'Model 2', 'Model 3']\n",
    "\n",
    "for i, model in enumerate(models):\n",
    "    model.compile(optimizer='adam',\n",
    "                  loss='sparse_categorical_crossentropy',\n",
    "                  metrics=['accuracy'])\n",
    "    model.fit(x_train, y_train, epochs=5, batch_size=32, verbose=1)\n",
    "    _, accuracy = model.evaluate(x_test, y_test, verbose=0)\n",
    "    print(f\"{model_names[i]} - Test Accuracy: {accuracy*100:.2f}%\")\n",
    "\n",
    "# Comparison table for accuracy\n",
    "print(\"\\nComparison Table for Accuracy:\")\n",
    "print(\"----------------------------\")\n",
    "print(\"|   Model   |   Accuracy   |\")\n",
    "print(\"----------------------------\")\n",
    "for i, model in enumerate(models):\n",
    "    _, accuracy = model.evaluate(x_test, y_test, verbose=0)\n",
    "    print(f\"|  {model_names[i]}  |    {accuracy*100:.2f}%   |\")\n",
    "print(\"----------------------------\")\n"
   ]
  },
  {
   "cell_type": "code",
   "execution_count": null,
   "id": "8ef4ee48",
   "metadata": {},
   "outputs": [],
   "source": []
  }
 ],
 "metadata": {
  "kernelspec": {
   "display_name": "Python 3 (ipykernel)",
   "language": "python",
   "name": "python3"
  },
  "language_info": {
   "codemirror_mode": {
    "name": "ipython",
    "version": 3
   },
   "file_extension": ".py",
   "mimetype": "text/x-python",
   "name": "python",
   "nbconvert_exporter": "python",
   "pygments_lexer": "ipython3",
   "version": "3.9.12"
  }
 },
 "nbformat": 4,
 "nbformat_minor": 5
}
