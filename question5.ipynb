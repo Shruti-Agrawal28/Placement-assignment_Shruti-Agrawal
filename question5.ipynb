{
 "cells": [
  {
   "cell_type": "code",
   "execution_count": 5,
   "id": "ebb57f43",
   "metadata": {},
   "outputs": [],
   "source": [
    "import requests\n",
    "import pandas as pd"
   ]
  },
  {
   "cell_type": "code",
   "execution_count": 8,
   "id": "bb8f0cea",
   "metadata": {},
   "outputs": [],
   "source": [
    "\n",
    "# Define the API link\n",
    "api_link = \"http://api.tvmaze.com/singlesearch/shows?q=westworld&embed=episodes\"\n",
    "\n",
    "# Send a GET request to the API\n",
    "response = requests.get(api_link)\n",
    "\n",
    "# Extract the JSON data from the response\n",
    "data = response.json()\n",
    "\n",
    "# Extract the episodes data\n",
    "episodes = data[\"_embedded\"][\"episodes\"]\n",
    "\n",
    "# Initialize empty lists to store the extracted data\n",
    "ids = []\n",
    "urls = []\n",
    "names = []\n",
    "seasons = []\n",
    "numbers = []\n",
    "types = []\n",
    "airdates = []\n",
    "airtimes = []\n",
    "runtimes = []\n",
    "ratings = []\n",
    "summaries = []\n",
    "medium_images = []\n",
    "original_images = []\n",
    "\n",
    "# Extract the required data attributes from each episode\n",
    "for episode in episodes:\n",
    "    ids.append(episode[\"id\"])\n",
    "    urls.append(episode[\"url\"])\n",
    "    names.append(episode[\"name\"])\n",
    "    seasons.append(episode[\"season\"])\n",
    "    numbers.append(episode[\"number\"])\n",
    "    types.append(episode[\"type\"])\n",
    "    airdates.append(episode[\"airdate\"])\n",
    "    airtimes.append(episode[\"airtime\"])\n",
    "    runtimes.append(episode[\"runtime\"])\n",
    "    ratings.append(episode[\"rating\"][\"average\"])\n",
    "    summaries.append(episode[\"summary\"].strip())\n",
    "    medium_images.append(episode[\"image\"][\"medium\"])\n",
    "    original_images.append(episode[\"image\"][\"original\"])\n",
    "\n",
    "# Create a DataFrame from the extracted data\n",
    "df = pd.DataFrame({\n",
    "    \"id\": ids,\n",
    "    \"url\": urls,\n",
    "    \"name\": names,\n",
    "    \"season\": seasons,\n",
    "    \"number\": numbers,\n",
    "    \"type\": types,\n",
    "    \"airdate\": airdates,\n",
    "    \"airtime\": airtimes,\n",
    "    \"runtime\": runtimes,\n",
    "    \"rating\": ratings,\n",
    "    \"summary\": summaries,\n",
    "    \"medium_image\": medium_images,\n",
    "    \"original_image\": original_images\n",
    "})\n",
    "\n"
   ]
  },
  {
   "cell_type": "code",
   "execution_count": 10,
   "id": "28628b38",
   "metadata": {},
   "outputs": [
    {
     "name": "stdout",
     "output_type": "stream",
     "text": [
      "<class 'pandas.core.frame.DataFrame'>\n",
      "RangeIndex: 36 entries, 0 to 35\n",
      "Data columns (total 13 columns):\n",
      " #   Column          Non-Null Count  Dtype  \n",
      "---  ------          --------------  -----  \n",
      " 0   id              36 non-null     int64  \n",
      " 1   url             36 non-null     object \n",
      " 2   name            36 non-null     object \n",
      " 3   season          36 non-null     int64  \n",
      " 4   number          36 non-null     int64  \n",
      " 5   type            36 non-null     object \n",
      " 6   airdate         36 non-null     object \n",
      " 7   airtime         36 non-null     object \n",
      " 8   runtime         36 non-null     int64  \n",
      " 9   rating          36 non-null     float64\n",
      " 10  summary         36 non-null     object \n",
      " 11  medium_image    36 non-null     object \n",
      " 12  original_image  36 non-null     object \n",
      "dtypes: float64(1), int64(4), object(8)\n",
      "memory usage: 3.8+ KB\n"
     ]
    }
   ],
   "source": [
    "df.info()"
   ]
  },
  {
   "cell_type": "code",
   "execution_count": null,
   "id": "cc246346",
   "metadata": {},
   "outputs": [],
   "source": []
  }
 ],
 "metadata": {
  "kernelspec": {
   "display_name": "Python 3 (ipykernel)",
   "language": "python",
   "name": "python3"
  },
  "language_info": {
   "codemirror_mode": {
    "name": "ipython",
    "version": 3
   },
   "file_extension": ".py",
   "mimetype": "text/x-python",
   "name": "python",
   "nbconvert_exporter": "python",
   "pygments_lexer": "ipython3",
   "version": "3.9.12"
  }
 },
 "nbformat": 4,
 "nbformat_minor": 5
}
