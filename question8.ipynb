{
 "cells": [
  {
   "cell_type": "code",
   "execution_count": 24,
   "id": "ebb57f43",
   "metadata": {},
   "outputs": [],
   "source": [
    "import requests\n",
    "import pandas as pd\n",
    "import matplotlib.pyplot as plt\n",
    "import seaborn as sns"
   ]
  },
  {
   "cell_type": "code",
   "execution_count": 8,
   "id": "5cabab9f",
   "metadata": {},
   "outputs": [],
   "source": [
    "\n",
    "# Define the API link\n",
    "api_link = \"http://api.tvmaze.com/singlesearch/shows?q=westworld&embed=episodes\"\n",
    "\n",
    "# Send a GET request to the API\n",
    "response = requests.get(api_link)\n",
    "\n",
    "# Extract the JSON data from the response\n",
    "data = response.json()\n",
    "\n",
    "# Extract the episodes data\n",
    "episodes = data[\"_embedded\"][\"episodes\"]\n",
    "\n",
    "# Initialize empty lists to store the extracted data\n",
    "ids = []\n",
    "urls = []\n",
    "names = []\n",
    "seasons = []\n",
    "numbers = []\n",
    "types = []\n",
    "airdates = []\n",
    "airtimes = []\n",
    "runtimes = []\n",
    "ratings = []\n",
    "summaries = []\n",
    "medium_images = []\n",
    "original_images = []\n",
    "\n",
    "# Extract the required data attributes from each episode\n",
    "for episode in episodes:\n",
    "    ids.append(episode[\"id\"])\n",
    "    urls.append(episode[\"url\"])\n",
    "    names.append(episode[\"name\"])\n",
    "    seasons.append(episode[\"season\"])\n",
    "    numbers.append(episode[\"number\"])\n",
    "    types.append(episode[\"type\"])\n",
    "    airdates.append(episode[\"airdate\"])\n",
    "    airtimes.append(episode[\"airtime\"])\n",
    "    runtimes.append(episode[\"runtime\"])\n",
    "    ratings.append(episode[\"rating\"][\"average\"])\n",
    "    summaries.append(episode[\"summary\"].strip())\n",
    "    medium_images.append(episode[\"image\"][\"medium\"])\n",
    "    original_images.append(episode[\"image\"][\"original\"])\n",
    "\n",
    "# Create a DataFrame from the extracted data\n",
    "df = pd.DataFrame({\n",
    "    \"id\": ids,\n",
    "    \"url\": urls,\n",
    "    \"name\": names,\n",
    "    \"season\": seasons,\n",
    "    \"number\": numbers,\n",
    "    \"type\": types,\n",
    "    \"airdate\": airdates,\n",
    "    \"airtime\": airtimes,\n",
    "    \"runtime\": runtimes,\n",
    "    \"rating\": ratings,\n",
    "    \"summary\": summaries,\n",
    "    \"medium_image\": medium_images,\n",
    "    \"original_image\": original_images\n",
    "})\n",
    "\n"
   ]
  },
  {
   "cell_type": "code",
   "execution_count": 10,
   "id": "75aa407f",
   "metadata": {},
   "outputs": [
    {
     "name": "stdout",
     "output_type": "stream",
     "text": [
      "<class 'pandas.core.frame.DataFrame'>\n",
      "RangeIndex: 36 entries, 0 to 35\n",
      "Data columns (total 13 columns):\n",
      " #   Column          Non-Null Count  Dtype  \n",
      "---  ------          --------------  -----  \n",
      " 0   id              36 non-null     int64  \n",
      " 1   url             36 non-null     object \n",
      " 2   name            36 non-null     object \n",
      " 3   season          36 non-null     int64  \n",
      " 4   number          36 non-null     int64  \n",
      " 5   type            36 non-null     object \n",
      " 6   airdate         36 non-null     object \n",
      " 7   airtime         36 non-null     object \n",
      " 8   runtime         36 non-null     int64  \n",
      " 9   rating          36 non-null     float64\n",
      " 10  summary         36 non-null     object \n",
      " 11  medium_image    36 non-null     object \n",
      " 12  original_image  36 non-null     object \n",
      "dtypes: float64(1), int64(4), object(8)\n",
      "memory usage: 3.8+ KB\n"
     ]
    }
   ],
   "source": [
    "df.info()"
   ]
  },
  {
   "cell_type": "markdown",
   "id": "f8fd7fb7",
   "metadata": {},
   "source": [
    "## DATA VISUALIZATION"
   ]
  },
  {
   "cell_type": "code",
   "execution_count": 25,
   "id": "9541b6bb",
   "metadata": {},
   "outputs": [
    {
     "data": {
      "image/png": "[encoded data removed]",
      "text/plain": [
       "<Figure size 720x432 with 1 Axes>"
      ]
     },
     "metadata": {
      "needs_background": "light"
     },
     "output_type": "display_data"
    }
   ],
   "source": [
    "#Number of episodes per season\n",
    "plt.figure(figsize=(10, 6))\n",
    "sns.countplot(x='season', data=df, palette='Set2')\n",
    "plt.xlabel('Season')\n",
    "plt.ylabel('Number of Episodes')\n",
    "plt.title('Number of Episodes per Season')\n",
    "plt.show()"
   ]
  },
  {
   "cell_type": "code",
   "execution_count": 28,
   "id": "1102d598",
   "metadata": {},
   "outputs": [
    {
     "data": {
      "image/png": "[encoded data removed]",
      "text/plain": [
       "<Figure size 720x432 with 1 Axes>"
      ]
     },
     "metadata": {
      "needs_background": "light"
     },
     "output_type": "display_data"
    }
   ],
   "source": [
    "# Question 3: Runtime Distribution\n",
    "plt.figure(figsize=(10, 6))\n",
    "sns.histplot(df['runtime'], bins=10)\n",
    "plt.xlabel('Runtime')\n",
    "plt.ylabel('Count')\n",
    "plt.title('Distribution of Episode Runtimes')\n",
    "plt.show()"
   ]
  },
  {
   "cell_type": "code",
   "execution_count": 15,
   "id": "960e5c49",
   "metadata": {
    "scrolled": true
   },
   "outputs": [
    {
     "data": {
      "image/png": "[encoded data removed]",
      "text/plain": [
       "<Figure size 432x288 with 1 Axes>"
      ]
     },
     "metadata": {
      "needs_background": "light"
     },
     "output_type": "display_data"
    }
   ],
   "source": [
    "# Average runtime of episodes per season\n",
    "average_runtime_per_season = df.groupby('season')['runtime'].mean()\n",
    "average_runtime_per_season.plot(kind='bar', xlabel='Season', ylabel='Average Runtime', title='Average Runtime of Episodes per Season')\n",
    "plt.show()\n"
   ]
  },
  {
   "cell_type": "code",
   "execution_count": 26,
   "id": "dfa555bc",
   "metadata": {},
   "outputs": [
    {
     "data": {
      "image/png": "[encoded data removed]",
      "text/plain": [
       "<Figure size 720x432 with 1 Axes>"
      ]
     },
     "metadata": {
      "needs_background": "light"
     },
     "output_type": "display_data"
    }
   ],
   "source": [
    "#Average rating of episodes per season\n",
    "plt.figure(figsize=(10, 6))\n",
    "sns.lineplot(x='season', y='rating', data=df)\n",
    "plt.xlabel('Season')\n",
    "plt.ylabel('Average Rating')\n",
    "plt.title('Average Rating per Season')\n",
    "plt.show()\n"
   ]
  },
  {
   "cell_type": "code",
   "execution_count": 22,
   "id": "ada467f2",
   "metadata": {},
   "outputs": [
    {
     "data": {
      "image/png": "[encoded data removed]",
      "text/plain": [
       "<Figure size 432x288 with 1 Axes>"
      ]
     },
     "metadata": {
      "needs_background": "light"
     },
     "output_type": "display_data"
    }
   ],
   "source": [
    "# Distribution of episode ratings\n",
    "df['rating'].plot(kind='hist', bins=10, xlabel='Rating', ylabel='Count', title='Distribution of Episode Ratings')\n",
    "plt.show()\n"
   ]
  },
  {
   "cell_type": "code",
   "execution_count": 27,
   "id": "2a913094",
   "metadata": {},
   "outputs": [
    {
     "data": {
      "image/png": "[encoded data removed]",
      "text/plain": [
       "<Figure size 720x432 with 1 Axes>"
      ]
     },
     "metadata": {
      "needs_background": "light"
     },
     "output_type": "display_data"
    }
   ],
   "source": [
    "#Summary Word Count Distribution\n",
    "df['summary_word_count'] = df['summary'].str.split().str.len()\n",
    "plt.figure(figsize=(10, 6))\n",
    "sns.histplot(df['summary_word_count'], bins=20)\n",
    "plt.xlabel('Word Count')\n",
    "plt.ylabel('Count')\n",
    "plt.title('Summary Word Count Distribution')\n",
    "plt.show()"
   ]
  },
  {
   "cell_type": "markdown",
   "id": "8dff6b69",
   "metadata": {},
   "source": [
    "### Get all the overall ratings for each season\n"
   ]
  },
  {
   "cell_type": "code",
   "execution_count": 33,
   "id": "2cfafe05",
   "metadata": {
    "scrolled": false
   },
   "outputs": [
    {
     "data": {
      "image/png": "[encoded data removed]",
      "text/plain": [
       "<Figure size 720x432 with 1 Axes>"
      ]
     },
     "metadata": {
      "needs_background": "light"
     },
     "output_type": "display_data"
    }
   ],
   "source": [
    "season_ratings = df.groupby('season')['rating'].mean()\n",
    "\n",
    "# Plotting the ratings for each season\n",
    "plt.figure(figsize=(10, 6))\n",
    "sns.lineplot(x=season_ratings.index, y=season_ratings.values)\n",
    "plt.xlabel('Season')\n",
    "plt.ylabel('Average Rating')\n",
    "plt.title('Average Rating per Season')\n",
    "plt.show()"
   ]
  },
  {
   "cell_type": "code",
   "execution_count": 34,
   "id": "9eb1d51a",
   "metadata": {},
   "outputs": [
    {
     "data": {
      "text/plain": [
       "season\n",
       "1    8.0900\n",
       "2    8.0000\n",
       "3    7.7750\n",
       "4    7.5375\n",
       "Name: rating, dtype: float64"
      ]
     },
     "execution_count": 34,
     "metadata": {},
     "output_type": "execute_result"
    }
   ],
   "source": [
    "season_ratings"
   ]
  },
  {
   "cell_type": "markdown",
   "id": "1c165e0c",
   "metadata": {},
   "source": [
    "### Get all the episode names with average rating > 8 for every season\n"
   ]
  },
  {
   "cell_type": "code",
   "execution_count": 35,
   "id": "04d9323d",
   "metadata": {
    "scrolled": true
   },
   "outputs": [],
   "source": [
    "highly_rated_episodes = df[df['rating'] > 8]\n",
    "highly_rated_episodes = highly_rated_episodes.groupby('season')['name'].apply(list)"
   ]
  },
  {
   "cell_type": "code",
   "execution_count": 36,
   "id": "aadf3f00",
   "metadata": {},
   "outputs": [
    {
     "name": "stdout",
     "output_type": "stream",
     "text": [
      "Season 1: [\"Trompe L'Oeil\", 'The Well-Tempered Clavier', 'The Bicameral Mind']\n",
      "Season 2: ['Kiksuya', 'Vanishing Point', 'The Passenger']\n"
     ]
    }
   ],
   "source": [
    "# Printing the episode names with average rating > 8 for each season\n",
    "for season, episodes in highly_rated_episodes.items():\n",
    "    print(f\"Season {season}: {episodes}\")"
   ]
  },
  {
   "cell_type": "markdown",
   "id": "9b08b93c",
   "metadata": {},
   "source": [
    "### Get all the episode names that aired before May 2019\n"
   ]
  },
  {
   "cell_type": "code",
   "execution_count": 37,
   "id": "ad65ef90",
   "metadata": {},
   "outputs": [
    {
     "name": "stdout",
     "output_type": "stream",
     "text": [
      "Episodes aired before May 2019:\n",
      "The Original\n",
      "Chestnut\n",
      "The Stray\n",
      "Dissonance Theory\n",
      "Contrapasso\n",
      "The Adversary\n",
      "Trompe L'Oeil\n",
      "Trace Decay\n",
      "The Well-Tempered Clavier\n",
      "The Bicameral Mind\n",
      "Journey Into Night\n",
      "Reunion\n",
      "Virtù e Fortuna\n",
      "The Riddle of the Sphinx\n",
      "Akane No Mai\n",
      "Phase Space\n",
      "Les Écorchés\n",
      "Kiksuya\n",
      "Vanishing Point\n",
      "The Passenger\n"
     ]
    }
   ],
   "source": [
    "early_episodes = df[df['airdate'] < '2019-05-01']['name'].tolist()\n",
    "\n",
    "# Print the episode names that aired before May 2019\n",
    "print(\"Episodes aired before May 2019:\")\n",
    "for episode in early_episodes:\n",
    "    print(episode)"
   ]
  },
  {
   "cell_type": "markdown",
   "id": "22eaa80f",
   "metadata": {},
   "source": [
    "### Get the episode name from each season with the highest and lowest rating\n"
   ]
  },
  {
   "cell_type": "code",
   "execution_count": 38,
   "id": "6ffcc69f",
   "metadata": {},
   "outputs": [],
   "source": [
    "highest_rated_episodes = df.groupby('season')['rating'].idxmax()\n",
    "lowest_rated_episodes = df.groupby('season')['rating'].idxmin()"
   ]
  },
  {
   "cell_type": "code",
   "execution_count": 39,
   "id": "2ae80b96",
   "metadata": {},
   "outputs": [
    {
     "name": "stdout",
     "output_type": "stream",
     "text": [
      "Highest rated episode in Season 1: The Bicameral Mind\n",
      "Highest rated episode in Season 2: Kiksuya\n",
      "Highest rated episode in Season 3: Parce Domine\n",
      "Highest rated episode in Season 4: Zhuangzi\n",
      "Lowest rated episode in Season 1: The Stray\n",
      "Lowest rated episode in Season 2: Akane No Mai\n",
      "Lowest rated episode in Season 3: Decoherence\n",
      "Lowest rated episode in Season 4: The Auguries\n"
     ]
    }
   ],
   "source": [
    "# Printing the episode names with the highest and lowest rating for each season\n",
    "for season, episode_idx in highest_rated_episodes.items():\n",
    "    print(f\"Highest rated episode in Season {season}: {df.loc[episode_idx, 'name']}\")\n",
    "for season, episode_idx in lowest_rated_episodes.items():\n",
    "    print(f\"Lowest rated episode in Season {season}: {df.loc[episode_idx, 'name']}\")"
   ]
  },
  {
   "cell_type": "markdown",
   "id": "80c4322e",
   "metadata": {},
   "source": [
    "### Get the summary for the most popular (highest rated) episode in every season\n"
   ]
  },
  {
   "cell_type": "code",
   "execution_count": 40,
   "id": "ae805d39",
   "metadata": {},
   "outputs": [
    {
     "name": "stdout",
     "output_type": "stream",
     "text": [
      "Summary of the most popular episode in Season 1:\n",
      "<p>Delores finds out the truth about William's fate. Meanwhile, Maeve organizes an escape plan, only to discover that someone else is pulling the strings. And Robert plays the final piece in his grand narrative.</p>\n",
      "\n",
      "\n",
      "Summary of the most popular episode in Season 2:\n",
      "<p>Another of Westworld's Host revolutionaries is revealed. Meanwhile, Emily finds the Man and convinces the Ghost Nation to hand him over to her to ensure his suffering.</p>\n",
      "\n",
      "\n",
      "Summary of the most popular episode in Season 3:\n",
      "<p>If you're stuck in a loop, try walking in a straight line.</p>\n",
      "\n",
      "\n",
      "Summary of the most popular episode in Season 4:\n",
      "<p>God is bored.</p>\n",
      "\n",
      "\n"
     ]
    }
   ],
   "source": [
    "most_popular_episodes = df.groupby('season')['rating'].idxmax()\n",
    "\n",
    "# Print the summaries of the most popular episodes in each season\n",
    "for season, episode_idx in most_popular_episodes.items():\n",
    "    print(f\"Summary of the most popular episode in Season {season}:\")\n",
    "    print(df.loc[episode_idx, 'summary'])\n",
    "    print('\\n')"
   ]
  },
  {
   "cell_type": "code",
   "execution_count": null,
   "id": "3b4dd997",
   "metadata": {},
   "outputs": [],
   "source": []
  }
 ],
 "metadata": {
  "kernelspec": {
   "display_name": "Python 3 (ipykernel)",
   "language": "python",
   "name": "python3"
  },
  "language_info": {
   "codemirror_mode": {
    "name": "ipython",
    "version": 3
   },
   "file_extension": ".py",
   "mimetype": "text/x-python",
   "name": "python",
   "nbconvert_exporter": "python",
   "pygments_lexer": "ipython3",
   "version": "3.9.12"
  }
 },
 "nbformat": 4,
 "nbformat_minor": 5
}
