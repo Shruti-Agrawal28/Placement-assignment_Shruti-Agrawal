{
 "cells": [
  {
   "cell_type": "markdown",
   "id": "a646c167",
   "metadata": {},
   "source": [
    "##### A factory produces light bulbs, and the probability of a bulb being defective is 0.05.\n",
    "##### The factory produces a large batch of 500 light bulbs.\n",
    "##### a. What is the probability that exactly 20 bulbs are defective?\n",
    "##### b. What is the probability that at least 10 bulbs are defective?\n",
    "##### c. What is the probability that at max 15 bulbs are defective?\n",
    "##### d. On average, how many defective bulbs would you expect in a batch of 500?"
   ]
  },
  {
   "cell_type": "markdown",
   "id": "1f1d7351",
   "metadata": {},
   "source": [
    "Let's define:\n",
    "\n",
    "n = total number of bulbs in the batch = 500\n",
    "\n",
    "p = probability of a bulb being defective = 0.05\n",
    "\n",
    "q = probability of a bulb not being defective = 1 - p = 1 - 0.05 = 0.95\n",
    "\n",
    "a. Probability of exactly 20 bulbs being defective:\n",
    "P(X = 20) = C(n, x) * p^x * q^(n-x)\n",
    "where C(n, x) represents the binomial coefficient (n choose x)\n",
    "\n",
    "Using the formula:\n",
    "P(X = 20) = C(500, 20) * (0.05)^20 * (0.95)^(500-20)\n",
    "\n",
    "b. Probability of at least 10 bulbs being defective:\n",
    "P(X >= 10) = 1 - P(X < 10)\n",
    "To find P(X < 10), we can calculate the cumulative probability of X from 0 to 9 (inclusive) and subtract it from 1.\n",
    "\n",
    "c. Probability that at most 15 bulbs are defective:\n",
    "P(X <= 15) = P(X < 16)\n",
    "To find P(X < 16), we can calculate the cumulative probability of X from 0 to 15 (inclusive).\n",
    "\n",
    "d. Average number of defective bulbs:\n",
    "The average (expected) number of defective bulbs can be calculated using the formula:\n",
    "E(X) = n * p"
   ]
  },
  {
   "cell_type": "code",
   "execution_count": 9,
   "id": "deec3045",
   "metadata": {},
   "outputs": [
    {
     "name": "stdout",
     "output_type": "stream",
     "text": [
      "a. Probability of exactly 20 bulbs being defective: 0.051616192536641056\n",
      "b. Probability of at least 10 bulbs being defective: 0.9998316463654902\n",
      "c. Probability that at most 15 bulbs are defective: 0.01985837716300623\n",
      "d. Average number of defective bulbs: 25.0\n"
     ]
    }
   ],
   "source": [
    "from scipy.stats import binom\n",
    "\n",
    "n = 500\n",
    "p = 0.05\n",
    "q = 1 - p\n",
    "\n",
    "# a. Probability of exactly 20 bulbs being defective\n",
    "x1 = 20\n",
    "p1 = binom.pmf(x1, n, p)\n",
    "\n",
    "# b. Probability of at least 10 bulbs being defective\n",
    "x2 = 9  # Calculate cumulative probability up to X = 9\n",
    "p2 = 1 - binom.cdf(x2, n, p)\n",
    "\n",
    "# c. Probability that at most 15 bulbs are defective\n",
    "x3 = 15  # Calculate cumulative probability up to X = 15\n",
    "p3 = binom.cdf(x3, n, p)\n",
    "\n",
    "# d. Average number of defective bulbs\n",
    "avg_defective = n * p\n",
    "\n",
    "# Print the results\n",
    "print(\"a. Probability of exactly 20 bulbs being defective:\", p1)\n",
    "print(\"b. Probability of at least 10 bulbs being defective:\", p2)\n",
    "print(\"c. Probability that at most 15 bulbs are defective:\", p3)\n",
    "print(\"d. Average number of defective bulbs:\", avg_defective)\n"
   ]
  }
 ],
 "metadata": {
  "kernelspec": {
   "display_name": "Python 3 (ipykernel)",
   "language": "python",
   "name": "python3"
  },
  "language_info": {
   "codemirror_mode": {
    "name": "ipython",
    "version": 3
   },
   "file_extension": ".py",
   "mimetype": "text/x-python",
   "name": "python",
   "nbconvert_exporter": "python",
   "pygments_lexer": "ipython3",
   "version": "3.9.12"
  }
 },
 "nbformat": 4,
 "nbformat_minor": 5
}
