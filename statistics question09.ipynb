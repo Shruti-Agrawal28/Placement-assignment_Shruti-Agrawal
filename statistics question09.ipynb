{
 "cells": [
  {
   "cell_type": "code",
   "execution_count": 1,
   "id": "33ae4bbf",
   "metadata": {},
   "outputs": [],
   "source": [
    "import numpy as np\n",
    "from scipy.stats import f_oneway"
   ]
  },
  {
   "cell_type": "code",
   "execution_count": 2,
   "id": "b9c0fd6f",
   "metadata": {},
   "outputs": [],
   "source": [
    "# Dataset\n",
    "dataset = {\n",
    "    'karan': [85, 90, 92],\n",
    "    'deepa': [70, 80, 85],\n",
    "    'karthik': [90, 85, 88],\n",
    "    'chandan': [75, 70, 75],\n",
    "    'jeevan': [95, 92, 96]\n",
    "}\n"
   ]
  },
  {
   "cell_type": "code",
   "execution_count": 3,
   "id": "d5677df0",
   "metadata": {},
   "outputs": [],
   "source": [
    "# Calculating mean scores\n",
    "mean_scores = {name: np.mean(scores) for name, scores in dataset.items()}\n"
   ]
  },
  {
   "cell_type": "code",
   "execution_count": 4,
   "id": "135dd57c",
   "metadata": {},
   "outputs": [],
   "source": [
    "# Performing one-way ANOVA test\n",
    "scores = [scores for scores in dataset.values()]\n",
    "f_statistic, p_value = f_oneway(*scores)\n"
   ]
  },
  {
   "cell_type": "code",
   "execution_count": 5,
   "id": "781ead30",
   "metadata": {},
   "outputs": [
    {
     "name": "stdout",
     "output_type": "stream",
     "text": [
      "Mean Scores:\n",
      "karan: 89.0\n",
      "deepa: 78.33333333333333\n",
      "karthik: 87.66666666666667\n",
      "chandan: 73.33333333333333\n",
      "jeevan: 94.33333333333333\n",
      "\n",
      "Hypothesis Test:\n",
      "The mean scores of the students are not the same.\n",
      "The student with the highest score is: jeevan\n"
     ]
    }
   ],
   "source": [
    "# Printing mean scores\n",
    "print(\"Mean Scores:\")\n",
    "for name, score in mean_scores.items():\n",
    "    print(f\"{name}: {score}\")\n",
    "\n",
    "# Printing test results\n",
    "print(\"\\nHypothesis Test:\")\n",
    "if p_value < 0.05:\n",
    "    print(\"The mean scores of the students are not the same.\")\n",
    "    student_with_highest_score = max(mean_scores, key=mean_scores.get)\n",
    "    print(f\"The student with the highest score is: {student_with_highest_score}\")\n",
    "else:\n",
    "    print(\"The mean scores of the students are the same.\")\n"
   ]
  }
 ],
 "metadata": {
  "kernelspec": {
   "display_name": "Python 3 (ipykernel)",
   "language": "python",
   "name": "python3"
  },
  "language_info": {
   "codemirror_mode": {
    "name": "ipython",
    "version": 3
   },
   "file_extension": ".py",
   "mimetype": "text/x-python",
   "name": "python",
   "nbconvert_exporter": "python",
   "pygments_lexer": "ipython3",
   "version": "3.9.12"
  }
 },
 "nbformat": 4,
 "nbformat_minor": 5
}
