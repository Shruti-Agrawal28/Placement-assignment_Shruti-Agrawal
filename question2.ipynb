{
 "cells": [
  {
   "cell_type": "code",
   "execution_count": 18,
   "id": "237a700a",
   "metadata": {},
   "outputs": [
    {
     "name": "stdout",
     "output_type": "stream",
     "text": [
      "Enter a string: dddffgghhjj\n",
      "YES\n"
     ]
    }
   ],
   "source": [
    "def is_valid_string(s):\n",
    "    char_count = {}\n",
    "    \n",
    "    # Count the frequency of each character\n",
    "    for char in s:\n",
    "        if char in char_count:\n",
    "            char_count[char] += 1\n",
    "        else:\n",
    "            char_count[char] = 1\n",
    "    \n",
    "    # Get the frequencies of the characters\n",
    "    freq_values = list(char_count.values())\n",
    "    \n",
    "    # Check if all frequencies are the same\n",
    "    if all(freq == freq_values[0] for freq in freq_values):\n",
    "        return \"YES\"\n",
    "    \n",
    "    # Check if removing one character can make all frequencies the same\n",
    "    for i in range(len(freq_values)):\n",
    "        freq_values[i] -= 1\n",
    "        \n",
    "        if all(freq == freq_values[0] for freq in freq_values):\n",
    "            return \"YES\"\n",
    "        \n",
    "        freq_values[i] += 1\n",
    "    \n",
    "    return \"NO\"\n",
    "\n",
    "\n",
    "# Test the function\n",
    "input_string = input(\"Enter a string: \")\n",
    "result = is_valid_string(input_string)\n",
    "print(result)\n"
   ]
  },
  {
   "cell_type": "markdown",
   "id": "4e74f8f2",
   "metadata": {},
   "source": [
    "⬆️In the above string we just have to remove one letter \"d\" and the string will be valid so the result is yes"
   ]
  },
  {
   "cell_type": "code",
   "execution_count": 11,
   "id": "87ccc735",
   "metadata": {},
   "outputs": [
    {
     "name": "stdout",
     "output_type": "stream",
     "text": [
      "Enter a string: aabbcc\n",
      "YES\n"
     ]
    }
   ],
   "source": [
    "input_string = input(\"Enter a string: \")\n",
    "result = is_valid_string(input_string)\n",
    "print(result)"
   ]
  },
  {
   "cell_type": "markdown",
   "id": "3fa9b91e",
   "metadata": {},
   "source": [
    "⬆️In the above string all the letters occur same number of time and the string is valid so the result is yes"
   ]
  }
 ],
 "metadata": {
  "kernelspec": {
   "display_name": "Python 3 (ipykernel)",
   "language": "python",
   "name": "python3"
  },
  "language_info": {
   "codemirror_mode": {
    "name": "ipython",
    "version": 3
   },
   "file_extension": ".py",
   "mimetype": "text/x-python",
   "name": "python",
   "nbconvert_exporter": "python",
   "pygments_lexer": "ipython3",
   "version": "3.9.12"
  }
 },
 "nbformat": 4,
 "nbformat_minor": 5
}
