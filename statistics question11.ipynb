{
 "cells": [
  {
   "cell_type": "code",
   "execution_count": 24,
   "id": "0bf39c6c",
   "metadata": {},
   "outputs": [],
   "source": [
    "import scipy.stats as stats\n",
    "import pandas as pd\n",
    "from sklearn.discriminant_analysis import LinearDiscriminantAnalysis, QuadraticDiscriminantAnalysis\n",
    "from sklearn.model_selection import train_test_split\n",
    "from sklearn.metrics import accuracy_score\n",
    "import numpy as np"
   ]
  },
  {
   "cell_type": "code",
   "execution_count": 2,
   "id": "e20bc4f8",
   "metadata": {},
   "outputs": [],
   "source": [
    "df = pd.read_csv(\"C:\\\\Users\\\\MGC\\\\Downloads\\\\data.csv\")"
   ]
  },
  {
   "cell_type": "code",
   "execution_count": 16,
   "id": "fdac1768",
   "metadata": {},
   "outputs": [
    {
     "data": {
      "text/html": [
       "<div>\n",
       "<style scoped>\n",
       "    .dataframe tbody tr th:only-of-type {\n",
       "        vertical-align: middle;\n",
       "    }\n",
       "\n",
       "    .dataframe tbody tr th {\n",
       "        vertical-align: top;\n",
       "    }\n",
       "\n",
       "    .dataframe thead th {\n",
       "        text-align: right;\n",
       "    }\n",
       "</style>\n",
       "<table border=\"1\" class=\"dataframe\">\n",
       "  <thead>\n",
       "    <tr style=\"text-align: right;\">\n",
       "      <th></th>\n",
       "      <th>Patient ID</th>\n",
       "      <th>Blood Pressure Before (mmHg)</th>\n",
       "      <th>Blood Pressure After (mmHg)</th>\n",
       "    </tr>\n",
       "  </thead>\n",
       "  <tbody>\n",
       "    <tr>\n",
       "      <th>0</th>\n",
       "      <td>1</td>\n",
       "      <td>130</td>\n",
       "      <td>120</td>\n",
       "    </tr>\n",
       "    <tr>\n",
       "      <th>1</th>\n",
       "      <td>2</td>\n",
       "      <td>142</td>\n",
       "      <td>135</td>\n",
       "    </tr>\n",
       "    <tr>\n",
       "      <th>2</th>\n",
       "      <td>3</td>\n",
       "      <td>120</td>\n",
       "      <td>118</td>\n",
       "    </tr>\n",
       "    <tr>\n",
       "      <th>3</th>\n",
       "      <td>4</td>\n",
       "      <td>135</td>\n",
       "      <td>127</td>\n",
       "    </tr>\n",
       "    <tr>\n",
       "      <th>4</th>\n",
       "      <td>5</td>\n",
       "      <td>148</td>\n",
       "      <td>140</td>\n",
       "    </tr>\n",
       "    <tr>\n",
       "      <th>...</th>\n",
       "      <td>...</td>\n",
       "      <td>...</td>\n",
       "      <td>...</td>\n",
       "    </tr>\n",
       "    <tr>\n",
       "      <th>95</th>\n",
       "      <td>96</td>\n",
       "      <td>136</td>\n",
       "      <td>129</td>\n",
       "    </tr>\n",
       "    <tr>\n",
       "      <th>96</th>\n",
       "      <td>97</td>\n",
       "      <td>143</td>\n",
       "      <td>137</td>\n",
       "    </tr>\n",
       "    <tr>\n",
       "      <th>97</th>\n",
       "      <td>98</td>\n",
       "      <td>127</td>\n",
       "      <td>123</td>\n",
       "    </tr>\n",
       "    <tr>\n",
       "      <th>98</th>\n",
       "      <td>99</td>\n",
       "      <td>139</td>\n",
       "      <td>135</td>\n",
       "    </tr>\n",
       "    <tr>\n",
       "      <th>99</th>\n",
       "      <td>100</td>\n",
       "      <td>135</td>\n",
       "      <td>130</td>\n",
       "    </tr>\n",
       "  </tbody>\n",
       "</table>\n",
       "<p>100 rows × 3 columns</p>\n",
       "</div>"
      ],
      "text/plain": [
       "    Patient ID   Blood Pressure Before (mmHg)   Blood Pressure After (mmHg)\n",
       "0            1                            130                           120\n",
       "1            2                            142                           135\n",
       "2            3                            120                           118\n",
       "3            4                            135                           127\n",
       "4            5                            148                           140\n",
       "..         ...                            ...                           ...\n",
       "95          96                            136                           129\n",
       "96          97                            143                           137\n",
       "97          98                            127                           123\n",
       "98          99                            139                           135\n",
       "99         100                            135                           130\n",
       "\n",
       "[100 rows x 3 columns]"
      ]
     },
     "execution_count": 16,
     "metadata": {},
     "output_type": "execute_result"
    }
   ],
   "source": [
    "df"
   ]
  },
  {
   "cell_type": "markdown",
   "id": "e5a6f746",
   "metadata": {},
   "source": [
    "### a. Checking the distribution of classes using paired t-test\n"
   ]
  },
  {
   "cell_type": "code",
   "execution_count": 10,
   "id": "d0b5c668",
   "metadata": {
    "scrolled": true
   },
   "outputs": [
    {
     "name": "stdout",
     "output_type": "stream",
     "text": [
      "a. Paired t-test p-value: 2.817165090364283e-61\n"
     ]
    }
   ],
   "source": [
    "t_statistic, p_value = stats.ttest_rel(df[' Blood Pressure Before (mmHg)'], df[' Blood Pressure After (mmHg)'])\n",
    "print(\"a. Paired t-test p-value:\", p_value)"
   ]
  },
  {
   "cell_type": "markdown",
   "id": "13a19a0c",
   "metadata": {},
   "source": [
    "### b. Checking the equality of variance using Levene's test\n"
   ]
  },
  {
   "cell_type": "code",
   "execution_count": 11,
   "id": "2700f241",
   "metadata": {},
   "outputs": [
    {
     "name": "stdout",
     "output_type": "stream",
     "text": [
      "b. Levene's test p-value: 0.6715080090945376\n"
     ]
    }
   ],
   "source": [
    "statistic, p_value = stats.levene(df[' Blood Pressure Before (mmHg)'], df[' Blood Pressure After (mmHg)'])\n",
    "print(\"b. Levene's test p-value:\", p_value)\n"
   ]
  },
  {
   "cell_type": "code",
   "execution_count": 37,
   "id": "4bc1cf50",
   "metadata": {},
   "outputs": [
    {
     "name": "stdout",
     "output_type": "stream",
     "text": [
      "Covariance Matrix:\n",
      "[[43.53727273 44.44686869]\n",
      " [44.44686869 47.44484848]]\n"
     ]
    }
   ],
   "source": [
    "# Selecting the columns of interest for covariance analysis\n",
    "selected_columns = [' Blood Pressure Before (mmHg)', ' Blood Pressure After (mmHg)']\n",
    "selected_data = df[selected_columns]\n",
    "\n",
    "# Computing the covariance matrix\n",
    "covariance_matrix = np.cov(selected_data.T)\n",
    "\n",
    "# Printing the covariance matrix\n",
    "print(\"Covariance Matrix:\")\n",
    "print(covariance_matrix)\n",
    "\n"
   ]
  },
  {
   "cell_type": "code",
   "execution_count": 38,
   "id": "33206db7",
   "metadata": {},
   "outputs": [
    {
     "data": {
      "image/png": "[encoded data removed]",
      "text/plain": [
       "<Figure size 576x432 with 2 Axes>"
      ]
     },
     "metadata": {
      "needs_background": "light"
     },
     "output_type": "display_data"
    }
   ],
   "source": [
    "# Visualizing the covariance matrix using a heatmap\n",
    "import seaborn as sns\n",
    "import matplotlib.pyplot as plt\n",
    "\n",
    "plt.figure(figsize=(8, 6))\n",
    "sns.heatmap(covariance_matrix, annot=True, cmap='coolwarm', square=True)\n",
    "plt.title('Covariance Matrix')\n",
    "plt.show()"
   ]
  },
  {
   "cell_type": "markdown",
   "id": "954b7b88",
   "metadata": {},
   "source": [
    "### COMPARING LDA AND QDA"
   ]
  },
  {
   "cell_type": "code",
   "execution_count": 46,
   "id": "075fd087",
   "metadata": {},
   "outputs": [
    {
     "name": "stdout",
     "output_type": "stream",
     "text": [
      "LDA Accuracy: 0.6\n"
     ]
    }
   ],
   "source": [
    "X = df[[' Blood Pressure Before (mmHg)']]\n",
    "y = df[' Blood Pressure After (mmHg)']\n",
    "\n",
    "\n",
    "# Splitting the data into training and testing sets\n",
    "X_train, X_test, y_train, y_test = train_test_split(X, y, test_size=0.2, random_state=42)\n",
    "\n",
    "# Performing LDA classification\n",
    "lda = LinearDiscriminantAnalysis()\n",
    "lda.fit(X_train, y_train)\n",
    "lda_predictions = lda.predict(X_test)\n",
    "lda_accuracy = accuracy_score(y_test, lda_predictions)\n",
    "print(\"LDA Accuracy:\", lda_accuracy)"
   ]
  },
  {
   "cell_type": "code",
   "execution_count": 47,
   "id": "01176b9b",
   "metadata": {
    "scrolled": true
   },
   "outputs": [
    {
     "ename": "ValueError",
     "evalue": "y has only 1 sample in class 119, covariance is ill defined.",
     "output_type": "error",
     "traceback": [
      "\u001b[1;31m---------------------------------------------------------------------------\u001b[0m",
      "\u001b[1;31mValueError\u001b[0m                                Traceback (most recent call last)",
      "Input \u001b[1;32mIn [47]\u001b[0m, in \u001b[0;36m<cell line: 3>\u001b[1;34m()\u001b[0m\n\u001b[0;32m      1\u001b[0m \u001b[38;5;66;03m# Perform QDA classification\u001b[39;00m\n\u001b[0;32m      2\u001b[0m qda \u001b[38;5;241m=\u001b[39m QuadraticDiscriminantAnalysis()\n\u001b[1;32m----> 3\u001b[0m \u001b[43mqda\u001b[49m\u001b[38;5;241;43m.\u001b[39;49m\u001b[43mfit\u001b[49m\u001b[43m(\u001b[49m\u001b[43mX_train\u001b[49m\u001b[43m,\u001b[49m\u001b[43m \u001b[49m\u001b[43my_train\u001b[49m\u001b[43m)\u001b[49m\n\u001b[0;32m      4\u001b[0m qda_predictions \u001b[38;5;241m=\u001b[39m qda\u001b[38;5;241m.\u001b[39mpredict(X_test)\n\u001b[0;32m      5\u001b[0m qda_accuracy \u001b[38;5;241m=\u001b[39m accuracy_score(y_test, qda_predictions)\n",
      "File \u001b[1;32m~\\anaconda3\\lib\\site-packages\\sklearn\\discriminant_analysis.py:869\u001b[0m, in \u001b[0;36mQuadraticDiscriminantAnalysis.fit\u001b[1;34m(self, X, y)\u001b[0m\n\u001b[0;32m    867\u001b[0m means\u001b[38;5;241m.\u001b[39mappend(meang)\n\u001b[0;32m    868\u001b[0m \u001b[38;5;28;01mif\u001b[39;00m \u001b[38;5;28mlen\u001b[39m(Xg) \u001b[38;5;241m==\u001b[39m \u001b[38;5;241m1\u001b[39m:\n\u001b[1;32m--> 869\u001b[0m     \u001b[38;5;28;01mraise\u001b[39;00m \u001b[38;5;167;01mValueError\u001b[39;00m(\n\u001b[0;32m    870\u001b[0m         \u001b[38;5;124m\"\u001b[39m\u001b[38;5;124my has only 1 sample in class \u001b[39m\u001b[38;5;132;01m%s\u001b[39;00m\u001b[38;5;124m, covariance is ill defined.\u001b[39m\u001b[38;5;124m\"\u001b[39m\n\u001b[0;32m    871\u001b[0m         \u001b[38;5;241m%\u001b[39m \u001b[38;5;28mstr\u001b[39m(\u001b[38;5;28mself\u001b[39m\u001b[38;5;241m.\u001b[39mclasses_[ind])\n\u001b[0;32m    872\u001b[0m     )\n\u001b[0;32m    873\u001b[0m Xgc \u001b[38;5;241m=\u001b[39m Xg \u001b[38;5;241m-\u001b[39m meang\n\u001b[0;32m    874\u001b[0m \u001b[38;5;66;03m# Xgc = U * S * V.T\u001b[39;00m\n",
      "\u001b[1;31mValueError\u001b[0m: y has only 1 sample in class 119, covariance is ill defined."
     ]
    }
   ],
   "source": [
    "# Performing QDA classification\n",
    "qda = QuadraticDiscriminantAnalysis()\n",
    "qda.fit(X_train, y_train)\n",
    "qda_predictions = qda.predict(X_test)\n",
    "qda_accuracy = accuracy_score(y_test, qda_predictions)\n",
    "print(\"QDA Accuracy:\", qda_accuracy)"
   ]
  },
  {
   "cell_type": "markdown",
   "id": "1c999fc6",
   "metadata": {},
   "source": [
    "In the context of our data, the error encountered while performing QDA indicates that there is only one sample in class 119, which leads to an ill-defined covariance matrix estimation. This means that the QDA algorithm requires more samples per class to accurately estimate the covariance matrix.\n",
    "\n",
    "In such cases, LDA can be a better choice compared to QDA. LDA assumes that the classes share a common covariance matrix, which reduces the risk of overfitting when there are limited samples per class. By assuming a shared covariance matrix, LDA estimates the covariance matrix more robustly, even with fewer samples.\n",
    "\n",
    "LDA performs well when the assumption of a common covariance matrix holds true, and when the classes are well-separated. It finds a linear discriminant function that maximizes the separation between classes while minimizing the within-class scatter. LDA can be effective in reducing the dimensionality of the data while preserving the discriminative information for classification tasks.\n",
    "\n",
    "In summary, the limited number of samples per class, LDA is a more suitable choice than QDA for our dataset. It offers a more stable and reliable estimation of the covariance matrix when the assumption of a common covariance matrix holds true."
   ]
  },
  {
   "cell_type": "markdown",
   "id": "2f593b65",
   "metadata": {},
   "source": [
    "### d. Checking the equality of means using paired t-test\n"
   ]
  },
  {
   "cell_type": "code",
   "execution_count": 48,
   "id": "9dbaaed8",
   "metadata": {},
   "outputs": [
    {
     "name": "stdout",
     "output_type": "stream",
     "text": [
      "d. Paired t-test p-value: 2.817165090364283e-61\n"
     ]
    }
   ],
   "source": [
    "t_statistic, p_value = stats.ttest_rel(df[' Blood Pressure Before (mmHg)'], df[' Blood Pressure After (mmHg)'])\n",
    "print(\"d. Paired t-test p-value:\", p_value)\n"
   ]
  },
  {
   "cell_type": "code",
   "execution_count": null,
   "id": "8f7b7ce4",
   "metadata": {},
   "outputs": [],
   "source": []
  }
 ],
 "metadata": {
  "kernelspec": {
   "display_name": "Python 3 (ipykernel)",
   "language": "python",
   "name": "python3"
  },
  "language_info": {
   "codemirror_mode": {
    "name": "ipython",
    "version": 3
   },
   "file_extension": ".py",
   "mimetype": "text/x-python",
   "name": "python",
   "nbconvert_exporter": "python",
   "pygments_lexer": "ipython3",
   "version": "3.9.12"
  }
 },
 "nbformat": 4,
 "nbformat_minor": 5
}
