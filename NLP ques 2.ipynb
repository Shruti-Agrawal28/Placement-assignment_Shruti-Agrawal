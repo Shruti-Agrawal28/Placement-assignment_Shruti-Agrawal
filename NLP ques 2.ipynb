{
 "cells": [
  {
   "cell_type": "markdown",
   "id": "0229b820",
   "metadata": {},
   "source": [
    "### IMPORTING STATEMENTS"
   ]
  },
  {
   "cell_type": "code",
   "execution_count": 26,
   "id": "e18808b5",
   "metadata": {
    "scrolled": true
   },
   "outputs": [],
   "source": [
    "import pdfplumber\n",
    "import csv\n",
    "from collections import Counter\n",
    "import string\n",
    "from nltk.corpus import stopwords\n"
   ]
  },
  {
   "cell_type": "markdown",
   "id": "bd71c48a",
   "metadata": {},
   "source": [
    "### Opening the PDF file and extracting it to csv file"
   ]
  },
  {
   "cell_type": "code",
   "execution_count": 25,
   "id": "4ef17683",
   "metadata": {
    "scrolled": true
   },
   "outputs": [
    {
     "name": "stdout",
     "output_type": "stream",
     "text": [
      "Most common word: dad\n"
     ]
    }
   ],
   "source": [
    "\n",
    "# Open the PDF file\n",
    "with pdfplumber.open(\"C:\\\\Users\\\\MGC\\\\Downloads\\\\Rich Dad Poor Dad ( PDFDrive ).pdf\") as pdf:\n",
    "    text = \"\"\n",
    "\n",
    "    # Extract text from each page\n",
    "    for page in pdf.pages:\n",
    "        text += page.extract_text()\n",
    "\n",
    "    # Remove punctuation and convert to lowercase\n",
    "    text = text.translate(str.maketrans('', '', string.punctuation))\n",
    "    text = text.lower()\n",
    "\n",
    "    # Split text into words\n",
    "    words = text.split()\n",
    "\n",
    "    # Remove stopwords\n",
    "    stop_words = set(stopwords.words('english'))\n",
    "    words = [word for word in words if word not in stop_words]\n",
    "\n",
    "    # Get the most common word\n",
    "    word_counts = Counter(words)\n",
    "    most_common_word = word_counts.most_common(1)[0][0]\n",
    "\n",
    "    # Write the extracted text to a CSV file\n",
    "    with open('output.csv', 'w', newline='', encoding='utf-8') as csv_file:\n",
    "        writer = csv.writer(csv_file)\n",
    "        writer.writerow(['Text'])\n",
    "        writer.writerow([text])\n",
    "\n",
    "    print(\"Most common word:\", most_common_word)\n"
   ]
  }
 ],
 "metadata": {
  "kernelspec": {
   "display_name": "Python 3 (ipykernel)",
   "language": "python",
   "name": "python3"
  },
  "language_info": {
   "codemirror_mode": {
    "name": "ipython",
    "version": 3
   },
   "file_extension": ".py",
   "mimetype": "text/x-python",
   "name": "python",
   "nbconvert_exporter": "python",
   "pygments_lexer": "ipython3",
   "version": "3.9.12"
  }
 },
 "nbformat": 4,
 "nbformat_minor": 5
}
