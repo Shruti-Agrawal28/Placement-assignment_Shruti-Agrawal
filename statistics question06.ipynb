{
 "cells": [
  {
   "cell_type": "markdown",
   "id": "6402f7cb",
   "metadata": {},
   "source": [
    " A pharmaceutical company is developing a drug that is supposed to reduce blood\n",
    "pressure. They conduct a clinical trial with 100 patients and record their blood\n",
    "pressure before and after taking the drug. The company wants to know if the change\n",
    "in blood pressure follows a normal distribution."
   ]
  },
  {
   "cell_type": "code",
   "execution_count": 1,
   "id": "0c2cd274",
   "metadata": {},
   "outputs": [],
   "source": [
    "import pandas as pd\n",
    "from scipy.stats import shapiro"
   ]
  },
  {
   "cell_type": "code",
   "execution_count": 2,
   "id": "58279725",
   "metadata": {},
   "outputs": [],
   "source": [
    "data = pd.read_csv(\"C:\\\\Users\\\\MGC\\\\Downloads\\\\data.csv\")"
   ]
  },
  {
   "cell_type": "code",
   "execution_count": 3,
   "id": "4c78e390",
   "metadata": {},
   "outputs": [
    {
     "name": "stdout",
     "output_type": "stream",
     "text": [
      "Shapiro-Wilk Test\n",
      "Test Statistic: 0.953819990158081\n",
      "p-value: 0.0014938802924007177\n",
      "The change in blood pressure does not follow a normal distribution.\n"
     ]
    }
   ],
   "source": [
    "# Extracting the change in blood pressure\n",
    "change_in_pressure = data[' Blood Pressure After (mmHg)'] - data[' Blood Pressure Before (mmHg)']\n",
    "\n",
    "# Performing Shapiro-Wilk test for normality\n",
    "statistic, p_value = shapiro(change_in_pressure)\n",
    "\n",
    "# Printing the test results\n",
    "print(\"Shapiro-Wilk Test\")\n",
    "print(\"Test Statistic:\", statistic)\n",
    "print(\"p-value:\", p_value)\n",
    "\n",
    "# Checking if p-value is less than the significance level (e.g., 0.05) to reject the null hypothesis\n",
    "alpha = 0.05\n",
    "if p_value < alpha:\n",
    "    print(\"The change in blood pressure does not follow a normal distribution.\")\n",
    "else:\n",
    "    print(\"The change in blood pressure follows a normal distribution.\")\n"
   ]
  },
  {
   "cell_type": "markdown",
   "id": "0494016c",
   "metadata": {},
   "source": [
    "Based on the Shapiro-Wilk test results with a significant p-value, we reject the null hypothesis. This indicates that the change in blood pressure in the clinical trial dataset does not follow a normal distribution. Therefore, the assumption of a normal distribution for the change in blood pressure cannot be considered valid.\n",
    "\n",
    "In the context of the pharmaceutical company's study, this suggests that the change in blood pressure after taking the drug may not have a symmetrical and bell-shaped distribution.\n"
   ]
  },
  {
   "cell_type": "code",
   "execution_count": null,
   "id": "8bd3fe18",
   "metadata": {},
   "outputs": [],
   "source": []
  }
 ],
 "metadata": {
  "kernelspec": {
   "display_name": "Python 3 (ipykernel)",
   "language": "python",
   "name": "python3"
  },
  "language_info": {
   "codemirror_mode": {
    "name": "ipython",
    "version": 3
   },
   "file_extension": ".py",
   "mimetype": "text/x-python",
   "name": "python",
   "nbconvert_exporter": "python",
   "pygments_lexer": "ipython3",
   "version": "3.9.12"
  }
 },
 "nbformat": 4,
 "nbformat_minor": 5
}
