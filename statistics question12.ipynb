{
 "cells": [
  {
   "cell_type": "markdown",
   "id": "14f93f07",
   "metadata": {},
   "source": [
    "A pharmaceutical company develops a new drug and wants to compare its\n",
    "effectiveness against a standard drug for treating a particular condition. They conduct a\n",
    "study with two groups: Group A receives the new drug, and Group B receives the standard\n",
    "drug. The company measures the improvement in a specific symptom for both groups after\n",
    "a 4-week treatment period.\n",
    "a. The company collects data from 30 patients in each group and calculates the\n",
    "mean improvement score and the standard deviation of improvement for each\n",
    "group. The mean improvement score for Group A is 2.5 with a standard\n",
    "deviation of 0.8, while the mean improvement score for Group B is 2.2 with a\n",
    "standard deviation of 0.6. Conduct a t-test to determine if there is a significant\n",
    "difference in the mean improvement scores between the two groups. Use a\n",
    "significance level of 0.05.\n",
    "b. Based on the t-test results, state whether the null hypothesis should be\n",
    "rejected or not. Provide a conclusion in the context of the stud"
   ]
  },
  {
   "cell_type": "code",
   "execution_count": 1,
   "id": "fa698d03",
   "metadata": {},
   "outputs": [],
   "source": [
    "import scipy.stats as stats"
   ]
  },
  {
   "cell_type": "code",
   "execution_count": 2,
   "id": "8876c467",
   "metadata": {},
   "outputs": [],
   "source": [
    "## Defining the data for Group A and Group B\n",
    "group_a_mean = 2.5\n",
    "group_a_std = 0.8\n",
    "group_a_n = 30\n",
    "\n",
    "group_b_mean = 2.2\n",
    "group_b_std = 0.6\n",
    "group_b_n = 30"
   ]
  },
  {
   "cell_type": "code",
   "execution_count": 3,
   "id": "497f2900",
   "metadata": {},
   "outputs": [],
   "source": [
    "#Performing independent two-sample t-test\n",
    "t_stat, p_value = stats.ttest_ind_from_stats(\n",
    "    mean1=group_a_mean, std1=group_a_std, nobs1=group_a_n,\n",
    "    mean2=group_b_mean, std2=group_b_std, nobs2=group_b_n\n",
    ")"
   ]
  },
  {
   "cell_type": "code",
   "execution_count": 4,
   "id": "9c398f11",
   "metadata": {},
   "outputs": [
    {
     "name": "stdout",
     "output_type": "stream",
     "text": [
      "t-statistic: 1.6431676725154976\n",
      "p-value: 0.10575916705583671\n"
     ]
    }
   ],
   "source": [
    "# Printing the t-statistic and p-value\n",
    "print(\"t-statistic:\", t_stat)\n",
    "print(\"p-value:\", p_value)"
   ]
  },
  {
   "cell_type": "code",
   "execution_count": 5,
   "id": "2e88bd91",
   "metadata": {},
   "outputs": [
    {
     "name": "stdout",
     "output_type": "stream",
     "text": [
      "Fail to reject the null hypothesis\n"
     ]
    }
   ],
   "source": [
    "# Checking for significance at alpha = 0.05\n",
    "alpha = 0.05\n",
    "if p_value < alpha:\n",
    "    print(\"Reject the null hypothesis\")\n",
    "else:\n",
    "    print(\"Fail to reject the null hypothesis\")\n"
   ]
  },
  {
   "cell_type": "markdown",
   "id": "f366b2f2",
   "metadata": {},
   "source": [
    "In this case, the p-value is 0.105, which is greater than the significance level of 0.05. Therefore, we fail to reject the null hypothesis. This means that there is not enough evidence to conclude that there is a significant difference in the mean improvement scores between Group A and Group B."
   ]
  },
  {
   "cell_type": "code",
   "execution_count": null,
   "id": "72b39af4",
   "metadata": {},
   "outputs": [],
   "source": []
  }
 ],
 "metadata": {
  "kernelspec": {
   "display_name": "Python 3 (ipykernel)",
   "language": "python",
   "name": "python3"
  },
  "language_info": {
   "codemirror_mode": {
    "name": "ipython",
    "version": 3
   },
   "file_extension": ".py",
   "mimetype": "text/x-python",
   "name": "python",
   "nbconvert_exporter": "python",
   "pygments_lexer": "ipython3",
   "version": "3.9.12"
  }
 },
 "nbformat": 4,
 "nbformat_minor": 5
}
