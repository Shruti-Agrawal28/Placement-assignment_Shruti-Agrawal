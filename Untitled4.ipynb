{
 "cells": [
  {
   "cell_type": "code",
   "execution_count": 6,
   "id": "20c60922",
   "metadata": {},
   "outputs": [
    {
     "name": "stdout",
     "output_type": "stream",
     "text": [
      "Enter a string: hello hello hello how how how are you\n",
      "Length(s) of the highest-frequency word(s): [5, 3]\n"
     ]
    }
   ],
   "source": [
    "def find_highest_frequency_word_length(string):\n",
    "    # Remove special characters and convert string to lowercase\n",
    "    string = ''.join(e for e in string if e.isalnum() or e.isspace())\n",
    "    string = string.lower()\n",
    "\n",
    "    # Split the string into words\n",
    "    words = string.split()\n",
    "\n",
    "    # Count the frequency of each word\n",
    "    word_freq = {}\n",
    "    for word in words:\n",
    "        if word in word_freq:\n",
    "            word_freq[word] += 1\n",
    "        else:\n",
    "            word_freq[word] = 1\n",
    "\n",
    "    # Find the highest frequency\n",
    "    highest_freq = max(word_freq.values())\n",
    "\n",
    "    # Get the lengths of all words with the highest frequency\n",
    "    highest_freq_lengths = [len(word) for word, freq in word_freq.items() if freq == highest_freq]\n",
    "\n",
    "    # Return the lengths of the highest-frequency words\n",
    "    return highest_freq_lengths\n",
    "\n",
    "\n",
    "# Test the function\n",
    "input_string = input(\"Enter a string: \")\n",
    "result_lengths = find_highest_frequency_word_length(input_string)\n",
    "print(\"Length(s) of the highest-frequency word(s):\", result_lengths)\n"
   ]
  },
  {
   "cell_type": "markdown",
   "id": "22e4ea34",
   "metadata": {},
   "source": [
    "⬆️From the given string we can note that the most frequent words are “hello” and “how” and\n",
    "the length of the words are 5 and 3 respectively."
   ]
  },
  {
   "cell_type": "code",
   "execution_count": 9,
   "id": "354d331e",
   "metadata": {},
   "outputs": [
    {
     "name": "stdout",
     "output_type": "stream",
     "text": [
      "Enter a string: this is is my my first first assignment \n",
      "Length of the highest-frequency word: [2, 2, 5]\n"
     ]
    }
   ],
   "source": [
    "input_string = input(\"Enter a string: \")\n",
    "result = find_highest_frequency_word_length(input_string)\n",
    "print(\"Length of the highest-frequency word:\", result)"
   ]
  },
  {
   "cell_type": "markdown",
   "id": "8f983909",
   "metadata": {},
   "source": [
    "⬆️From the above string we can note that the most frequent words are “is” and “my” and \"first\" and the length of the words are 2, 2, and 5 respectively."
   ]
  },
  {
   "cell_type": "code",
   "execution_count": null,
   "id": "1b0aa927",
   "metadata": {},
   "outputs": [],
   "source": []
  }
 ],
 "metadata": {
  "kernelspec": {
   "display_name": "Python 3 (ipykernel)",
   "language": "python",
   "name": "python3"
  },
  "language_info": {
   "codemirror_mode": {
    "name": "ipython",
    "version": 3
   },
   "file_extension": ".py",
   "mimetype": "text/x-python",
   "name": "python",
   "nbconvert_exporter": "python",
   "pygments_lexer": "ipython3",
   "version": "3.9.12"
  }
 },
 "nbformat": 4,
 "nbformat_minor": 5
}
