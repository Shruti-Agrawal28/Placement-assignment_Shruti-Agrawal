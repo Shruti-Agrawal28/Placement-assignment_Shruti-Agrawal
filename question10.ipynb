{
 "cells": [
  {
   "cell_type": "code",
   "execution_count": 1,
   "id": "f10c1aea",
   "metadata": {},
   "outputs": [],
   "source": [
    "import nltk\n",
    "from nltk.tokenize import word_tokenize\n",
    "from nltk.tag import pos_tag"
   ]
  },
  {
   "cell_type": "code",
   "execution_count": 2,
   "id": "827bc8d5",
   "metadata": {},
   "outputs": [],
   "source": [
    "def count_pos(text):\n",
    "    # Tokenize the text into words\n",
    "    tokens = word_tokenize(text)\n",
    "    \n",
    "    # Tag the tokens with their respective parts of speech\n",
    "    tagged_tokens = pos_tag(tokens)\n",
    "    \n",
    "    # Initialize counts\n",
    "    verb_count = 0\n",
    "    noun_count = 0\n",
    "    pronoun_count = 0\n",
    "    adjective_count = 0\n",
    "    \n",
    "    # Iterate over the tagged tokens and count the occurrences of each part of speech\n",
    "    for token, tag in tagged_tokens:\n",
    "        if tag.startswith('VB'):  # Verbs start with 'VB'\n",
    "            verb_count += 1\n",
    "        elif tag.startswith('NN'):  # Nouns start with 'NN'\n",
    "            noun_count += 1\n",
    "        elif tag.startswith('PR'):  # Pronouns start with 'PR'\n",
    "            pronoun_count += 1\n",
    "        elif tag.startswith('JJ'):  # Adjectives start with 'JJ'\n",
    "            adjective_count += 1\n",
    "    \n",
    "    # Create a dictionary with the counts\n",
    "    counts = {\n",
    "        'verbs': verb_count,\n",
    "        'nouns': noun_count,\n",
    "        'pronouns': pronoun_count,\n",
    "        'adjectives': adjective_count\n",
    "    }\n",
    "    \n",
    "    return counts"
   ]
  },
  {
   "cell_type": "code",
   "execution_count": 13,
   "id": "c51c3d62",
   "metadata": {},
   "outputs": [
    {
     "name": "stdout",
     "output_type": "stream",
     "text": [
      "{'verbs': 8, 'nouns': 17, 'pronouns': 0, 'adjectives': 5}\n"
     ]
    }
   ],
   "source": [
    "# Test the function\n",
    "text = \"Data science is an interdisciplinary field that uses scientific methods,processes, algorithms, and systems to extract knowledge and insights from structured and unstructured data. The goal of data science is to turn raw data into actionable insights that can inform decision-making and improve outcomes.\"\n",
    "counts = count_pos(text)\n",
    "print(counts)  # Output: {'verbs': 1, 'nouns': 4, 'pronouns': 0, 'adjectives': 2}"
   ]
  },
  {
   "cell_type": "code",
   "execution_count": null,
   "id": "cfe9718c",
   "metadata": {},
   "outputs": [],
   "source": []
  }
 ],
 "metadata": {
  "kernelspec": {
   "display_name": "Python 3 (ipykernel)",
   "language": "python",
   "name": "python3"
  },
  "language_info": {
   "codemirror_mode": {
    "name": "ipython",
    "version": 3
   },
   "file_extension": ".py",
   "mimetype": "text/x-python",
   "name": "python",
   "nbconvert_exporter": "python",
   "pygments_lexer": "ipython3",
   "version": "3.9.12"
  }
 },
 "nbformat": 4,
 "nbformat_minor": 5
}
