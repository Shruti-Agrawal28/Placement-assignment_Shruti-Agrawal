{
 "cells": [
  {
   "cell_type": "markdown",
   "id": "a3339d7e",
   "metadata": {},
   "source": [
    "### Explanation:\n",
    "\n",
    "The program imports the necessary modules from the Natural Language Toolkit (NLTK) library, which provides various tools for natural language processing.\n",
    "The count_pos() function takes a text input as a parameter.\n",
    "The text is tokenized into individual words using the word_tokenize() function from NLTK.\n",
    "The tokens are then tagged with their respective parts of speech using the pos_tag() function.\n",
    "The function initializes counts for verbs, nouns, pronouns, and adjectives.\n",
    "It iterates over the tagged tokens and increments the respective count based on the part of speech tag.\n",
    "Finally, the function returns a dictionary containing the counts.\n",
    "The function is tested with a sample text, and the resulting counts are printed."
   ]
  },
  {
   "cell_type": "code",
   "execution_count": 1,
   "id": "7b8a575b",
   "metadata": {},
   "outputs": [],
   "source": [
    "import nltk\n",
    "from nltk.tokenize import word_tokenize\n",
    "from nltk.tag import pos_tag"
   ]
  },
  {
   "cell_type": "code",
   "execution_count": 7,
   "id": "ca1ebeaa",
   "metadata": {},
   "outputs": [
    {
     "name": "stdout",
     "output_type": "stream",
     "text": [
      "{'verbs': 1, 'nouns': 2, 'pronouns': 0, 'adjectives': 1}\n"
     ]
    }
   ],
   "source": [
    "def count_pos(text):\n",
    "    tokens = word_tokenize(text)\n",
    "    \n",
    "    tagged_tokens = nltk.pos_tag_sents([tokens])\n",
    "    \n",
    "    counts = {\n",
    "        'verbs': 0,\n",
    "        'nouns': 0,\n",
    "        'pronouns': 0,\n",
    "        'adjectives': 0\n",
    "    }\n",
    "    \n",
    "    for sentence in tagged_tokens:\n",
    "        for token, tag in sentence:\n",
    "            if tag.startswith('VB'):  # Verbs\n",
    "                counts['verbs'] += 1\n",
    "            elif tag.startswith('NN'):  # Nouns\n",
    "                counts['nouns'] += 1\n",
    "            elif tag.startswith('PR'):  # Pronouns\n",
    "                counts['pronouns'] += 1\n",
    "            elif tag.startswith('JJ'):  # Adjectives\n",
    "                counts['adjectives'] += 1\n",
    "    \n",
    "    return counts\n",
    "\n",
    "# Test the function\n",
    "text = \"The fox jumps over the lazy dog.\"\n",
    "counts = count_pos(text)\n",
    "print(counts)  # Output: {'verbs': 1, 'nouns': 2, 'pronouns': 0, 'adjectives': 1}\n"
   ]
  },
  {
   "cell_type": "markdown",
   "id": "49425c11",
   "metadata": {},
   "source": [
    " This test case includes verbs (\"jumps\"), nouns (\"fox,\" \"dog) and adjectives (\"lazy\")."
   ]
  },
  {
   "cell_type": "code",
   "execution_count": 9,
   "id": "dd67629e",
   "metadata": {},
   "outputs": [
    {
     "name": "stdout",
     "output_type": "stream",
     "text": [
      "{'verbs': 1, 'nouns': 5, 'pronouns': 0, 'adjectives': 0}\n"
     ]
    }
   ],
   "source": [
    "# Test the function\n",
    "text = \"This function counts verbs, nouns, pronouns, adjectives\"\n",
    "counts = count_pos(text)\n",
    "print(counts)  # Output: {'verbs': 1, 'nouns': 4, 'pronouns': 0, 'adjectives': 2}"
   ]
  },
  {
   "cell_type": "markdown",
   "id": "d9ae5152",
   "metadata": {},
   "source": [
    "This test case includes verbs (\"counts\"), nouns (\"function,\" \"verbs\", \"nouns\", \"pronouns\",\"adjectives\") "
   ]
  },
  {
   "cell_type": "code",
   "execution_count": 5,
   "id": "83f8c9df",
   "metadata": {},
   "outputs": [
    {
     "name": "stdout",
     "output_type": "stream",
     "text": [
      "{'verbs': 1, 'nouns': 2, 'pronouns': 0, 'adjectives': 0}\n"
     ]
    }
   ],
   "source": [
    "text = \"The cat chased the cat.\"\n",
    "counts = count_pos(text)\n",
    "print(counts)  "
   ]
  },
  {
   "cell_type": "markdown",
   "id": "d1ea1a33",
   "metadata": {},
   "source": [
    "This test case demonstrates that the function correctly counts the number of verbs and nouns, even if they appear multiple times in the text."
   ]
  }
 ],
 "metadata": {
  "kernelspec": {
   "display_name": "Python 3 (ipykernel)",
   "language": "python",
   "name": "python3"
  },
  "language_info": {
   "codemirror_mode": {
    "name": "ipython",
    "version": 3
   },
   "file_extension": ".py",
   "mimetype": "text/x-python",
   "name": "python",
   "nbconvert_exporter": "python",
   "pygments_lexer": "ipython3",
   "version": "3.9.12"
  }
 },
 "nbformat": 4,
 "nbformat_minor": 5
}
