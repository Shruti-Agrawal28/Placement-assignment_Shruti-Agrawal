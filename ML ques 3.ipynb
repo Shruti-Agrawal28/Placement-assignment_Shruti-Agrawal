{
 "cells": [
  {
   "cell_type": "markdown",
   "id": "ff53fcf8",
   "metadata": {},
   "source": [
    "### IMPORTING STATEMENTS"
   ]
  },
  {
   "cell_type": "code",
   "execution_count": 1,
   "id": "dbf585b4",
   "metadata": {},
   "outputs": [],
   "source": [
    "import json\n",
    "import pandas as pd\n",
    "from sklearn.metrics.pairwise import cosine_similarity\n",
    "from scipy.spatial.distance import euclidean, jaccard\n",
    "from scipy.stats import pearsonr\n",
    "from nltk.stem import WordNetLemmatizer, SnowballStemmer\n",
    "import nltk\n",
    "from nltk.corpus import stopwords\n",
    "import numpy as np\n",
    "from collections import Counter\n",
    "import re\n",
    "from itertools import tee, islice\n",
    "lemmatizer = WordNetLemmatizer()\n",
    "stemmer = SnowballStemmer('english')\n",
    "from sklearn.feature_extraction.text import TfidfVectorizer, CountVectorizer\n",
    "from sklearn.metrics.pairwise import cosine_similarity\n",
    "from sklearn.metrics.pairwise import euclidean_distances\n",
    "from sklearn.metrics.pairwise import manhattan_distances\n",
    "from sklearn.metrics import jaccard_score\n",
    "import warnings\n",
    "warnings.filterwarnings(\"ignore\")"
   ]
  },
  {
   "cell_type": "code",
   "execution_count": 2,
   "id": "0a14893c",
   "metadata": {},
   "outputs": [],
   "source": [
    "df = pd.read_json(\"C:\\\\Users\\\\MGC\\\\Downloads\\\\assignment\\\\News_Category_Dataset_v3.json\\\\News_Category_Dataset_v3.json\", lines=True)"
   ]
  },
  {
   "cell_type": "code",
   "execution_count": 3,
   "id": "e7134897",
   "metadata": {},
   "outputs": [
    {
     "data": {
      "text/html": [
       "<div>\n",
       "<style scoped>\n",
       "    .dataframe tbody tr th:only-of-type {\n",
       "        vertical-align: middle;\n",
       "    }\n",
       "\n",
       "    .dataframe tbody tr th {\n",
       "        vertical-align: top;\n",
       "    }\n",
       "\n",
       "    .dataframe thead th {\n",
       "        text-align: right;\n",
       "    }\n",
       "</style>\n",
       "<table border=\"1\" class=\"dataframe\">\n",
       "  <thead>\n",
       "    <tr style=\"text-align: right;\">\n",
       "      <th></th>\n",
       "      <th>link</th>\n",
       "      <th>headline</th>\n",
       "      <th>category</th>\n",
       "      <th>short_description</th>\n",
       "      <th>authors</th>\n",
       "      <th>date</th>\n",
       "    </tr>\n",
       "  </thead>\n",
       "  <tbody>\n",
       "    <tr>\n",
       "      <th>0</th>\n",
       "      <td>https://www.huffpost.com/entry/covid-boosters-...</td>\n",
       "      <td>Over 4 Million Americans Roll Up Sleeves For O...</td>\n",
       "      <td>U.S. NEWS</td>\n",
       "      <td>Health experts said it is too early to predict...</td>\n",
       "      <td>Carla K. Johnson, AP</td>\n",
       "      <td>2022-09-23</td>\n",
       "    </tr>\n",
       "    <tr>\n",
       "      <th>1</th>\n",
       "      <td>https://www.huffpost.com/entry/american-airlin...</td>\n",
       "      <td>American Airlines Flyer Charged, Banned For Li...</td>\n",
       "      <td>U.S. NEWS</td>\n",
       "      <td>He was subdued by passengers and crew when he ...</td>\n",
       "      <td>Mary Papenfuss</td>\n",
       "      <td>2022-09-23</td>\n",
       "    </tr>\n",
       "    <tr>\n",
       "      <th>2</th>\n",
       "      <td>https://www.huffpost.com/entry/funniest-tweets...</td>\n",
       "      <td>23 Of The Funniest Tweets About Cats And Dogs ...</td>\n",
       "      <td>COMEDY</td>\n",
       "      <td>\"Until you have a dog you don't understand wha...</td>\n",
       "      <td>Elyse Wanshel</td>\n",
       "      <td>2022-09-23</td>\n",
       "    </tr>\n",
       "    <tr>\n",
       "      <th>3</th>\n",
       "      <td>https://www.huffpost.com/entry/funniest-parent...</td>\n",
       "      <td>The Funniest Tweets From Parents This Week (Se...</td>\n",
       "      <td>PARENTING</td>\n",
       "      <td>\"Accidentally put grown-up toothpaste on my to...</td>\n",
       "      <td>Caroline Bologna</td>\n",
       "      <td>2022-09-23</td>\n",
       "    </tr>\n",
       "    <tr>\n",
       "      <th>4</th>\n",
       "      <td>https://www.huffpost.com/entry/amy-cooper-lose...</td>\n",
       "      <td>Woman Who Called Cops On Black Bird-Watcher Lo...</td>\n",
       "      <td>U.S. NEWS</td>\n",
       "      <td>Amy Cooper accused investment firm Franklin Te...</td>\n",
       "      <td>Nina Golgowski</td>\n",
       "      <td>2022-09-22</td>\n",
       "    </tr>\n",
       "    <tr>\n",
       "      <th>...</th>\n",
       "      <td>...</td>\n",
       "      <td>...</td>\n",
       "      <td>...</td>\n",
       "      <td>...</td>\n",
       "      <td>...</td>\n",
       "      <td>...</td>\n",
       "    </tr>\n",
       "    <tr>\n",
       "      <th>209522</th>\n",
       "      <td>https://www.huffingtonpost.com/entry/rim-ceo-t...</td>\n",
       "      <td>RIM CEO Thorsten Heins' 'Significant' Plans Fo...</td>\n",
       "      <td>TECH</td>\n",
       "      <td>Verizon Wireless and AT&amp;T are already promotin...</td>\n",
       "      <td>Reuters, Reuters</td>\n",
       "      <td>2012-01-28</td>\n",
       "    </tr>\n",
       "    <tr>\n",
       "      <th>209523</th>\n",
       "      <td>https://www.huffingtonpost.com/entry/maria-sha...</td>\n",
       "      <td>Maria Sharapova Stunned By Victoria Azarenka I...</td>\n",
       "      <td>SPORTS</td>\n",
       "      <td>Afterward, Azarenka, more effusive with the pr...</td>\n",
       "      <td></td>\n",
       "      <td>2012-01-28</td>\n",
       "    </tr>\n",
       "    <tr>\n",
       "      <th>209524</th>\n",
       "      <td>https://www.huffingtonpost.com/entry/super-bow...</td>\n",
       "      <td>Giants Over Patriots, Jets Over Colts Among  M...</td>\n",
       "      <td>SPORTS</td>\n",
       "      <td>Leading up to Super Bowl XLVI, the most talked...</td>\n",
       "      <td></td>\n",
       "      <td>2012-01-28</td>\n",
       "    </tr>\n",
       "    <tr>\n",
       "      <th>209525</th>\n",
       "      <td>https://www.huffingtonpost.com/entry/aldon-smi...</td>\n",
       "      <td>Aldon Smith Arrested: 49ers Linebacker Busted ...</td>\n",
       "      <td>SPORTS</td>\n",
       "      <td>CORRECTION: An earlier version of this story i...</td>\n",
       "      <td></td>\n",
       "      <td>2012-01-28</td>\n",
       "    </tr>\n",
       "    <tr>\n",
       "      <th>209526</th>\n",
       "      <td>https://www.huffingtonpost.com/entry/dwight-ho...</td>\n",
       "      <td>Dwight Howard Rips Teammates After Magic Loss ...</td>\n",
       "      <td>SPORTS</td>\n",
       "      <td>The five-time all-star center tore into his te...</td>\n",
       "      <td></td>\n",
       "      <td>2012-01-28</td>\n",
       "    </tr>\n",
       "  </tbody>\n",
       "</table>\n",
       "<p>209527 rows × 6 columns</p>\n",
       "</div>"
      ],
      "text/plain": [
       "                                                     link  \\\n",
       "0       https://www.huffpost.com/entry/covid-boosters-...   \n",
       "1       https://www.huffpost.com/entry/american-airlin...   \n",
       "2       https://www.huffpost.com/entry/funniest-tweets...   \n",
       "3       https://www.huffpost.com/entry/funniest-parent...   \n",
       "4       https://www.huffpost.com/entry/amy-cooper-lose...   \n",
       "...                                                   ...   \n",
       "209522  https://www.huffingtonpost.com/entry/rim-ceo-t...   \n",
       "209523  https://www.huffingtonpost.com/entry/maria-sha...   \n",
       "209524  https://www.huffingtonpost.com/entry/super-bow...   \n",
       "209525  https://www.huffingtonpost.com/entry/aldon-smi...   \n",
       "209526  https://www.huffingtonpost.com/entry/dwight-ho...   \n",
       "\n",
       "                                                 headline   category  \\\n",
       "0       Over 4 Million Americans Roll Up Sleeves For O...  U.S. NEWS   \n",
       "1       American Airlines Flyer Charged, Banned For Li...  U.S. NEWS   \n",
       "2       23 Of The Funniest Tweets About Cats And Dogs ...     COMEDY   \n",
       "3       The Funniest Tweets From Parents This Week (Se...  PARENTING   \n",
       "4       Woman Who Called Cops On Black Bird-Watcher Lo...  U.S. NEWS   \n",
       "...                                                   ...        ...   \n",
       "209522  RIM CEO Thorsten Heins' 'Significant' Plans Fo...       TECH   \n",
       "209523  Maria Sharapova Stunned By Victoria Azarenka I...     SPORTS   \n",
       "209524  Giants Over Patriots, Jets Over Colts Among  M...     SPORTS   \n",
       "209525  Aldon Smith Arrested: 49ers Linebacker Busted ...     SPORTS   \n",
       "209526  Dwight Howard Rips Teammates After Magic Loss ...     SPORTS   \n",
       "\n",
       "                                        short_description  \\\n",
       "0       Health experts said it is too early to predict...   \n",
       "1       He was subdued by passengers and crew when he ...   \n",
       "2       \"Until you have a dog you don't understand wha...   \n",
       "3       \"Accidentally put grown-up toothpaste on my to...   \n",
       "4       Amy Cooper accused investment firm Franklin Te...   \n",
       "...                                                   ...   \n",
       "209522  Verizon Wireless and AT&T are already promotin...   \n",
       "209523  Afterward, Azarenka, more effusive with the pr...   \n",
       "209524  Leading up to Super Bowl XLVI, the most talked...   \n",
       "209525  CORRECTION: An earlier version of this story i...   \n",
       "209526  The five-time all-star center tore into his te...   \n",
       "\n",
       "                     authors       date  \n",
       "0       Carla K. Johnson, AP 2022-09-23  \n",
       "1             Mary Papenfuss 2022-09-23  \n",
       "2              Elyse Wanshel 2022-09-23  \n",
       "3           Caroline Bologna 2022-09-23  \n",
       "4             Nina Golgowski 2022-09-22  \n",
       "...                      ...        ...  \n",
       "209522      Reuters, Reuters 2012-01-28  \n",
       "209523                       2012-01-28  \n",
       "209524                       2012-01-28  \n",
       "209525                       2012-01-28  \n",
       "209526                       2012-01-28  \n",
       "\n",
       "[209527 rows x 6 columns]"
      ]
     },
     "execution_count": 3,
     "metadata": {},
     "output_type": "execute_result"
    }
   ],
   "source": [
    "df"
   ]
  },
  {
   "cell_type": "code",
   "execution_count": 4,
   "id": "65b4dcc9",
   "metadata": {},
   "outputs": [
    {
     "data": {
      "text/plain": [
       "array(['U.S. NEWS', 'COMEDY', 'PARENTING', 'WORLD NEWS', 'CULTURE & ARTS',\n",
       "       'TECH', 'SPORTS', 'ENTERTAINMENT', 'POLITICS', 'WEIRD NEWS',\n",
       "       'ENVIRONMENT', 'EDUCATION', 'CRIME', 'SCIENCE', 'WELLNESS',\n",
       "       'BUSINESS', 'STYLE & BEAUTY', 'FOOD & DRINK', 'MEDIA',\n",
       "       'QUEER VOICES', 'HOME & LIVING', 'WOMEN', 'BLACK VOICES', 'TRAVEL',\n",
       "       'MONEY', 'RELIGION', 'LATINO VOICES', 'IMPACT', 'WEDDINGS',\n",
       "       'COLLEGE', 'PARENTS', 'ARTS & CULTURE', 'STYLE', 'GREEN', 'TASTE',\n",
       "       'HEALTHY LIVING', 'THE WORLDPOST', 'GOOD NEWS', 'WORLDPOST',\n",
       "       'FIFTY', 'ARTS', 'DIVORCE'], dtype=object)"
      ]
     },
     "execution_count": 4,
     "metadata": {},
     "output_type": "execute_result"
    }
   ],
   "source": [
    "df.category.unique()"
   ]
  },
  {
   "cell_type": "code",
   "execution_count": 5,
   "id": "abb844dc",
   "metadata": {},
   "outputs": [],
   "source": [
    "df.category[df.category=='THE WORLDPOST'] = 'WORLDPOST'\n",
    "df.category[df.category=='GREEN'] = 'ENVIRONMENT'\n",
    "df.category[df.category=='CULTURE & ARTS'] = 'ARTS'\n",
    "df.category[df.category=='COMEDY'] = 'ENTERTAINMENT'\n",
    "df.category[(df.category=='BLACK VOICES') | (df.category=='LATINO VOICES') | (df.category=='QUEER VOICES')] = 'VOICES'\n",
    "df.category[df.category=='STYLE'] = 'STYLE & BEAUTY'\n",
    "df.category[df.category=='ARTS & CULTURE'] = 'ARTS'\n",
    "df.category[df.category=='COLLEGE'] = 'EDUCATION'\n",
    "df.category[df.category=='SCIENCE'] = 'TECH'\n",
    "df.category[df.category=='WEDDINGS'] = 'GOOD NEWS'\n",
    "df.category[df.category=='TASTE'] = 'FOOD & DRINK'\n",
    "df.category[(df.category=='PARENTING') | (df.category=='FIFTY')] = 'PARENTS'\n",
    "df.category[df.category=='WORLD NEWS'] = 'WORLDPOST'"
   ]
  },
  {
   "cell_type": "code",
   "execution_count": 6,
   "id": "ed5394f3",
   "metadata": {},
   "outputs": [],
   "source": [
    "def textClean(text):\n",
    "    text = re.sub(\"[^a-zA-Z]\", ' ',text).strip()\n",
    "    text = nltk.word_tokenize(text.lower())\n",
    "    stops = set(stopwords.words(\"english\"))\n",
    "    stops = list(stops) + ['amp']\n",
    "    text = \" \".join([lemmatizer.lemmatize(w) for w in text if w not in stops])\n",
    "    return(text)"
   ]
  },
  {
   "cell_type": "markdown",
   "id": "96ae951d",
   "metadata": {},
   "source": [
    "### CLEANING HEADLINE AND DESCRIPTION"
   ]
  },
  {
   "cell_type": "code",
   "execution_count": 7,
   "id": "59288939",
   "metadata": {},
   "outputs": [
    {
     "name": "stdout",
     "output_type": "stream",
     "text": [
      "CPU times: total: 2min 15s\n",
      "Wall time: 5min 13s\n"
     ]
    }
   ],
   "source": [
    "%%time\n",
    "df['Clean_headline'] = df.headline.map(textClean)\n",
    "df['Clean_description'] = df.short_description.map(textClean)"
   ]
  },
  {
   "cell_type": "code",
   "execution_count": 8,
   "id": "dff88b98",
   "metadata": {
    "scrolled": true
   },
   "outputs": [
    {
     "data": {
      "text/plain": [
       "ENTERTAINMENT    260\n",
       "VOICES             6\n",
       "PARENTS            1\n",
       "Name: category, dtype: int64"
      ]
     },
     "execution_count": 8,
     "metadata": {},
     "output_type": "execute_result"
    }
   ],
   "source": [
    "df[df.Clean_headline.str.contains('box office')].category.value_counts()"
   ]
  },
  {
   "cell_type": "code",
   "execution_count": 9,
   "id": "9675eab6",
   "metadata": {},
   "outputs": [],
   "source": [
    "df.drop([\"short_description\", \"headline\"], axis=1, inplace=True)"
   ]
  },
  {
   "cell_type": "markdown",
   "id": "2cef8fd9",
   "metadata": {},
   "source": [
    "### FITTING TEXT DATA TO TFIDF VECTORIZER"
   ]
  },
  {
   "cell_type": "code",
   "execution_count": 10,
   "id": "0b934955",
   "metadata": {},
   "outputs": [],
   "source": [
    "# Create a TF-IDF vectorizer\n",
    "vectorizer = TfidfVectorizer()\n",
    "\n",
    "df['text_data'] = df['Clean_headline'] + ' ' + df['Clean_description']\n",
    "# Fit and transform the textual data\n",
    "textual_data = df['text_data'][0:10000]  # Assuming 'Clean_description' contains the textual data\n",
    "tfidf_matrix = vectorizer.fit_transform(textual_data)\n",
    "\n",
    "# Compute cosine similarity\n",
    "cosine_similarities = cosine_similarity(tfidf_matrix, tfidf_matrix)\n",
    "\n",
    "# Compute Jaccard similarity\n",
    "binary_matrix = (tfidf_matrix > 0).astype(int)\n",
    "jaccard_similarities = jaccard_score(binary_matrix.toarray(), binary_matrix.toarray(), average=None)\n",
    "\n",
    "# Find the most similar data using each similarity algorithm\n",
    "most_similar_cosine = df.iloc[cosine_similarities.argmax(axis=1)]\n",
    "most_similar_jaccard = df.iloc[jaccard_similarities.argmax(axis=0)]\n",
    "\n"
   ]
  },
  {
   "cell_type": "markdown",
   "id": "f40f29e3",
   "metadata": {},
   "source": [
    "###  Finding the most similar data points using cosine similarity\n",
    " "
   ]
  },
  {
   "cell_type": "code",
   "execution_count": 11,
   "id": "a8772897",
   "metadata": {
    "scrolled": true
   },
   "outputs": [
    {
     "name": "stdout",
     "output_type": "stream",
     "text": [
      "Most Similar Data Points (Cosine Similarity):\n",
      "0       million american roll sleeve omicron targeted ...\n",
      "2384    fda cdc say fully vaccinated need booster shot...\n",
      "2156    common covid booster shot question answered la...\n",
      "1673    virus surge colorado open covid booster adult ...\n",
      "1497    fauci say want optimally protected get covid b...\n",
      "                              ...                        \n",
      "4172    chadwick boseman helped create iconic black pa...\n",
      "4171    faith leader endorse joe biden kamala harris w...\n",
      "4169    fonio try nutrient packed ancient grain quinoa...\n",
      "4182    massachusetts primary could affect puerto rica...\n",
      "9999    facebook let user see site tracking able stop ...\n",
      "Name: text_data, Length: 10000, dtype: object\n"
     ]
    }
   ],
   "source": [
    "query_index = 0  # Index of the query data point\n",
    "most_similar_indices = np.argsort(-cosine_similarities[query_index])  # Sort in descending order\n",
    "most_similar_data = df[\"text_data\"][most_similar_indices]\n",
    "\n",
    "print(\"Most Similar Data Points (Cosine Similarity):\")\n",
    "print(most_similar_data)\n"
   ]
  },
  {
   "cell_type": "markdown",
   "id": "33dc628a",
   "metadata": {},
   "source": [
    "### Finding the most similar data points using Jaccard similarity"
   ]
  },
  {
   "cell_type": "code",
   "execution_count": 16,
   "id": "47c8cec3",
   "metadata": {
    "scrolled": true
   },
   "outputs": [
    {
     "name": "stdout",
     "output_type": "stream",
     "text": [
      "Most Similar Data Points (Jaccard Similarity):\n",
      "0    million american roll sleeve omicron targeted ...\n",
      "Name: text_data, dtype: object\n"
     ]
    }
   ],
   "source": [
    "query_index = 2  # Index of the query data point\n",
    "most_similar_indices = np.argsort(-jaccard_similarities[query_index])[0:]  # Sort in descending order\n",
    "most_similar_data = df[\"text_data\"][most_similar_indices]\n",
    "\n",
    "print(\"Most Similar Data Points (Jaccard Similarity):\")\n",
    "print(most_similar_data)\n"
   ]
  },
  {
   "cell_type": "markdown",
   "id": "5e644a8d",
   "metadata": {},
   "source": [
    "### Finding the most similar data points using Euclidean similarity\n"
   ]
  },
  {
   "cell_type": "code",
   "execution_count": 13,
   "id": "2c0038fe",
   "metadata": {},
   "outputs": [
    {
     "name": "stdout",
     "output_type": "stream",
     "text": [
      "Most Similar Data Points (Euclidean Distance):\n",
      "0       million american roll sleeve omicron targeted ...\n",
      "2384    fda cdc say fully vaccinated need booster shot...\n",
      "2156    common covid booster shot question answered la...\n",
      "1673    virus surge colorado open covid booster adult ...\n",
      "1497    fauci say want optimally protected get covid b...\n",
      "                              ...                        \n",
      "6648    dairy farm investigation undercover footage re...\n",
      "6647    california santa anita racetrack refuse close ...\n",
      "2822    zendaya oscar dress stunning made bigger fashi...\n",
      "6643    men sentenced life prison rape murder year old...\n",
      "9999    facebook let user see site tracking able stop ...\n",
      "Name: text_data, Length: 10000, dtype: object\n"
     ]
    }
   ],
   "source": [
    "from sklearn.metrics.pairwise import pairwise_distances\n",
    "\n",
    "# Compute Euclidean distances\n",
    "euclidean_distances = pairwise_distances(tfidf_matrix.toarray(), metric='euclidean')\n",
    "\n",
    "# Find the most similar data points using Euclidean distance\n",
    "query_index = 0  # Index of the query data point\n",
    "most_similar_indices_euclidean = np.argsort(euclidean_distances[query_index])  # Sort in ascending order\n",
    "most_similar_data_euclidean = df[\"text_data\"].iloc[most_similar_indices_euclidean]\n",
    "\n",
    "print(\"Most Similar Data Points (Euclidean Distance):\")\n",
    "print(most_similar_data_euclidean)\n"
   ]
  },
  {
   "cell_type": "markdown",
   "id": "4b55a9b4",
   "metadata": {},
   "source": [
    "### Finding the most similar data points using Manhattan similarity\n"
   ]
  },
  {
   "cell_type": "code",
   "execution_count": 17,
   "id": "93867085",
   "metadata": {},
   "outputs": [
    {
     "name": "stdout",
     "output_type": "stream",
     "text": [
      "Most Similar Data Points (Manhattan Distance):\n",
      "0       million american roll sleeve omicron targeted ...\n",
      "9042    trump knew scary amount appearance bill gate d...\n",
      "2156    common covid booster shot question answered la...\n",
      "478                            herschel walker say state \n",
      "2432                       dress want twirl go twirl pick\n",
      "                              ...                        \n",
      "230     sinema took wall street money killing tax inve...\n",
      "4923    adam sandler pop pete davidson snl rap going q...\n",
      "7475    trailer little movie drop twitter already cele...\n",
      "6162    deal brexit could lead shortage medicine food ...\n",
      "3139    dozen leading hong kong pro democracy campaign...\n",
      "Name: text_data, Length: 10000, dtype: object\n"
     ]
    }
   ],
   "source": [
    "from sklearn.metrics.pairwise import manhattan_distances\n",
    "\n",
    "# Calculate the Manhattan distances between the query data and all other data points\n",
    "manhattan_distances = manhattan_distances(tfidf_matrix, tfidf_matrix)\n",
    "query_index=0\n",
    "# Sort the distances in ascending order and get the indices of the most similar data points\n",
    "most_similar_indices_manhattan = np.argsort(manhattan_distances[query_index])\n",
    "\n",
    "# Get the corresponding data points from the dataset\n",
    "most_similar_data_manhattan = df[\"text_data\"].iloc[most_similar_indices_manhattan]\n",
    "\n",
    "# Print the most similar data points (Manhattan Distance)\n",
    "print(\"Most Similar Data Points (Manhattan Distance):\")\n",
    "print(most_similar_data_manhattan)\n"
   ]
  },
  {
   "cell_type": "code",
   "execution_count": null,
   "id": "041dd915",
   "metadata": {},
   "outputs": [],
   "source": []
  }
 ],
 "metadata": {
  "kernelspec": {
   "display_name": "Python 3 (ipykernel)",
   "language": "python",
   "name": "python3"
  },
  "language_info": {
   "codemirror_mode": {
    "name": "ipython",
    "version": 3
   },
   "file_extension": ".py",
   "mimetype": "text/x-python",
   "name": "python",
   "nbconvert_exporter": "python",
   "pygments_lexer": "ipython3",
   "version": "3.9.12"
  }
 },
 "nbformat": 4,
 "nbformat_minor": 5
}
